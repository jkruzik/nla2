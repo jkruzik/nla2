{
 "cells": [
  {
   "cell_type": "markdown",
   "id": "7511ee33",
   "metadata": {
    "lines_to_next_cell": 0
   },
   "source": [
    "## Catastrophic cancellation in quadratic formula"
   ]
  },
  {
   "cell_type": "code",
   "execution_count": 1,
   "id": "930ec155",
   "metadata": {
    "lines_to_next_cell": 1
   },
   "outputs": [],
   "source": [
    "import math\n",
    "\n",
    "def quadratic_standard(a, b, c):\n",
    "    \"\"\"Solve quadratic using the standard quadratic formula.\"\"\"\n",
    "    disc = b*b - 4*a*c\n",
    "    sqrt_disc = math.sqrt(disc)\n",
    "    x1 = (-b + sqrt_disc) / (2*a)\n",
    "    x2 = (-b - sqrt_disc) / (2*a)\n",
    "    return x1, x2"
   ]
  },
  {
   "cell_type": "markdown",
   "id": "a3e2099d",
   "metadata": {
    "lines_to_next_cell": 0
   },
   "source": [
    "if $b^2 \\gg ac$, then $\\sqrt{b^2 - 4ac} \\approx b$ and there is catastrophic\n",
    "cancellation when computing one of the roots.\n",
    "This can be fixed by expanding the fraction by the conjugate of numerator to get the sum of square ($(x+y)(x-y) = x^2 - y^2$)."
   ]
  },
  {
   "cell_type": "code",
   "execution_count": 2,
   "id": "57f3a5ad",
   "metadata": {},
   "outputs": [],
   "source": [
    "def quadratic_stable(a, b, c):\n",
    "    \"\"\"Solve quadratic using a numerically stable approach.\"\"\"\n",
    "    disc = b*b - 4*a*c\n",
    "    sqrt_disc = math.sqrt(disc)\n",
    "\n",
    "    # Choose denominator to avoid cancellation\n",
    "    if b > 0:\n",
    "        x1 = (2*c) / (-b -sqrt_disc)\n",
    "        x2 = (-b - sqrt_disc) / (2*a)\n",
    "    else:\n",
    "        x1 = (-b + sqrt_disc) / (2*a)\n",
    "        x2 = (2*c) / (-b +sqrt_disc)\n",
    "\n",
    "    return x1, x2"
   ]
  },
  {
   "cell_type": "markdown",
   "id": "692c1182",
   "metadata": {
    "lines_to_next_cell": 0
   },
   "source": [
    "Example where cancellation occurs: $b^2 \\gg a*c$"
   ]
  },
  {
   "cell_type": "code",
   "execution_count": 3,
   "id": "525e0a39",
   "metadata": {},
   "outputs": [
    {
     "name": "stdout",
     "output_type": "stream",
     "text": [
      "Standard quadratic formula:\n",
      "x1 = 0.0\n",
      "x2 = -1000000000.0\n",
      "\n",
      "Numerically stable quadratic formula:\n",
      "x1 = -2e-08\n",
      "x2 = -1000000000.0\n"
     ]
    }
   ],
   "source": [
    "a, b, c = 0.0001, 100000, 0.002\n",
    "\n",
    "roots_standard = quadratic_standard(a, b, c)\n",
    "roots_stable = quadratic_stable(a, b, c)\n",
    "\n",
    "print(\"Standard quadratic formula:\")\n",
    "print(\"x1 =\", roots_standard[0])\n",
    "print(\"x2 =\", roots_standard[1])\n",
    "\n",
    "print(\"\\nNumerically stable quadratic formula:\")\n",
    "print(\"x1 =\", roots_stable[0])\n",
    "print(\"x2 =\", roots_stable[1])"
   ]
  },
  {
   "cell_type": "markdown",
   "id": "4d179ad9",
   "metadata": {
    "lines_to_next_cell": 0
   },
   "source": [
    "Check accuracy by plugging roots back into equation.\n",
    "Use [Horner's rule](https://en.wikipedia.org/wiki/Polynomial_evaluation) to evaluate the polynomial."
   ]
  },
  {
   "cell_type": "code",
   "execution_count": 4,
   "id": "2a9c5462",
   "metadata": {},
   "outputs": [
    {
     "name": "stdout",
     "output_type": "stream",
     "text": [
      "\n",
      "Residuals (should be ~0):\n",
      "Standard root 1: 2.00e-03\n",
      "Standard root 2: 2.00e-03\n",
      "Stable root 1: 0.00e+00\n",
      "Stable root 2: 2.00e-03\n",
      "\n",
      "Relative residuals (should be ~0):\n",
      "Standard root 1: 1.00e+00\n",
      "Standard root 2: 1.00e-17\n",
      "Stable root 1: 0.00e+00\n",
      "Stable root 2: 1.00e-17\n"
     ]
    }
   ],
   "source": [
    "print(\"\\nResiduals (should be ~0):\")\n",
    "for i, r in enumerate(roots_standard, 1):\n",
    "    z = r*(a*r + b) + c\n",
    "    print(f\"Standard root {i}: {z:.2e}\")\n",
    "for i, r in enumerate(roots_stable, 1):\n",
    "    z = r*(a*r + b) + c\n",
    "    print(f\"Stable root {i}: {z:.2e}\")\n",
    "\n",
    "print(\"\\nRelative residuals (should be ~0):\")\n",
    "for i, r in enumerate(roots_standard, 1):\n",
    "    z = r*(a*r + b) + c\n",
    "    print(f\"Standard root {i}: {abs(z)/(abs(a)*r*r + abs(b)*abs(r) + abs(c)):.2e}\")\n",
    "for i, r in enumerate(roots_stable, 1):\n",
    "    z = r*(a*r + b) + c\n",
    "    print(f\"Stable root {i}: {abs(z)/(abs(a)*r*r + abs(b)*abs(r) + abs(c)):.2e}\")"
   ]
  },
  {
   "cell_type": "markdown",
   "id": "7a7d0e93",
   "metadata": {},
   "source": [
    "Note that if $b^2 \\approx 4ac$, there is a cancellation that can only be avoided by effectively computing in extended precision."
   ]
  }
 ],
 "metadata": {
  "jupytext": {
   "cell_metadata_filter": "-all",
   "main_language": "python",
   "notebook_metadata_filter": "-all"
  },
  "kernelspec": {
   "display_name": "Python 3 (ipykernel)",
   "language": "python",
   "name": "python3"
  },
  "language_info": {
   "codemirror_mode": {
    "name": "ipython",
    "version": 3
   },
   "file_extension": ".py",
   "mimetype": "text/x-python",
   "name": "python",
   "nbconvert_exporter": "python",
   "pygments_lexer": "ipython3",
   "version": "3.13.7"
  }
 },
 "nbformat": 4,
 "nbformat_minor": 5
}
