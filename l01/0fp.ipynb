{
 "cells": [
  {
   "cell_type": "markdown",
   "id": "973b19db",
   "metadata": {
    "lines_to_next_cell": 0
   },
   "source": [
    "## Rounding"
   ]
  },
  {
   "cell_type": "code",
   "execution_count": 1,
   "id": "4d60f16d",
   "metadata": {},
   "outputs": [
    {
     "name": "stdout",
     "output_type": "stream",
     "text": [
      "a == b    False\n"
     ]
    }
   ],
   "source": [
    "def eprint(expr, mid=\" \"):\n",
    "    print(expr, mid, eval(expr))\n",
    "\n",
    "a = 0.1 + 0.2\n",
    "b = 0.3\n",
    "eprint(\"a == b \")"
   ]
  },
  {
   "cell_type": "markdown",
   "id": "434f5167",
   "metadata": {
    "lines_to_next_cell": 0
   },
   "source": [
    "## How to compare FP numbers?"
   ]
  },
  {
   "cell_type": "code",
   "execution_count": 2,
   "id": "ccd29262",
   "metadata": {},
   "outputs": [
    {
     "name": "stdout",
     "output_type": "stream",
     "text": [
      "5.551115123125783e-17\n",
      "True\n"
     ]
    }
   ],
   "source": [
    "eps = 1e-15 # see also https://en.wikipedia.org/wiki/Machine_epsilon\n",
    "print(abs(a-b))\n",
    "print(abs(a-b) <= eps)"
   ]
  },
  {
   "cell_type": "markdown",
   "id": "20466ad0",
   "metadata": {
    "lines_to_next_cell": 0
   },
   "source": [
    "the absolute tolerance may not work"
   ]
  },
  {
   "cell_type": "code",
   "execution_count": 3,
   "id": "660dab0c",
   "metadata": {},
   "outputs": [
    {
     "name": "stdout",
     "output_type": "stream",
     "text": [
      "1e+300 1.0000000000000002e+300\n",
      "difference:  1.487016908477783e+284\n",
      "'close':  False\n"
     ]
    }
   ],
   "source": [
    "import math\n",
    "a = 1e300\n",
    "b = math.nextafter(a, math.inf) # the closest next representable number\n",
    "print(a,b)\n",
    "print(\"difference: \", abs(a-b))\n",
    "print(\"'close': \", abs(a-b) <= eps)"
   ]
  },
  {
   "cell_type": "markdown",
   "id": "7a18279b",
   "metadata": {
    "lines_to_next_cell": 0
   },
   "source": [
    "relative tolerance"
   ]
  },
  {
   "cell_type": "code",
   "execution_count": 4,
   "id": "2247b1ec",
   "metadata": {},
   "outputs": [
    {
     "name": "stdout",
     "output_type": "stream",
     "text": [
      "relatively close:  True\n"
     ]
    }
   ],
   "source": [
    "print(\"relatively close: \", abs(a-b)/min(a,b) < eps)"
   ]
  },
  {
   "cell_type": "markdown",
   "id": "4d0589ef",
   "metadata": {},
   "source": [
    "What if b = 0?\n",
    "The relative error is pointless (even when fixing division by zero).\n",
    "Which numbers we consider close in an absolute sense depends on the context in which they are obtained.\n",
    "See [boost](https://www.boost.org/doc/libs/latest/libs/math/doc/html/math_toolkit/float_comparison.html) and [boost2](https://www.boost.org/doc/libs/latest/libs/test/doc/html/boost_test/testing_tools/extended_comparison/floating_point/floating_points_comparison_theory.html)"
   ]
  },
  {
   "cell_type": "markdown",
   "id": "83d94d85",
   "metadata": {
    "lines_to_next_cell": 0
   },
   "source": [
    "## Associativity"
   ]
  },
  {
   "cell_type": "code",
   "execution_count": 5,
   "id": "0bad0bca",
   "metadata": {},
   "outputs": [
    {
     "name": "stdout",
     "output_type": "stream",
     "text": [
      "(1e16 - 1e16) + 1.0 == 1.0   True\n",
      "1e16 + (-1e16 + 1.0) == 1.0   False\n",
      "(1e300 * 1e300) * 1e-300  =  inf\n",
      "1e300 * (1e300 * 1e-300)  =  1e+300\n"
     ]
    }
   ],
   "source": [
    "eprint(\"(1e16 - 1e16) + 1.0 == 1.0\")\n",
    "eprint(\"1e16 + (-1e16 + 1.0) == 1.0\")\n",
    "eprint(\"(1e300 * 1e300) * 1e-300\", \" = \")\n",
    "eprint(\"1e300 * (1e300 * 1e-300)\", \" = \")"
   ]
  },
  {
   "cell_type": "markdown",
   "id": "ec49860c",
   "metadata": {},
   "source": [
    "See also [Floating-Point Arithmetic: Issues and Limitations](https://docs.python.org/3/tutorial/floatingpoint.html), optionally [Interval arithmetic](https://en.wikipedia.org/wiki/Interval_arithmetic)"
   ]
  }
 ],
 "metadata": {
  "jupytext": {
   "cell_metadata_filter": "-all",
   "main_language": "python",
   "notebook_metadata_filter": "-all"
  },
  "kernelspec": {
   "display_name": "Python 3 (ipykernel)",
   "language": "python",
   "name": "python3"
  },
  "language_info": {
   "codemirror_mode": {
    "name": "ipython",
    "version": 3
   },
   "file_extension": ".py",
   "mimetype": "text/x-python",
   "name": "python",
   "nbconvert_exporter": "python",
   "pygments_lexer": "ipython3",
   "version": "3.13.7"
  }
 },
 "nbformat": 4,
 "nbformat_minor": 5
}
