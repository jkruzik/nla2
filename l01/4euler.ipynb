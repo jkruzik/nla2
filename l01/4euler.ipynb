{
 "cells": [
  {
   "cell_type": "markdown",
   "id": "521ec055",
   "metadata": {
    "lines_to_next_cell": 0
   },
   "source": [
    "## Error Accumulation\n",
    "Using simple [Euler method](https://en.m.wikipedia.org/wiki/Euler_method) for solving ODE"
   ]
  },
  {
   "cell_type": "code",
   "execution_count": 1,
   "id": "5c99545c",
   "metadata": {
    "lines_to_next_cell": 1
   },
   "outputs": [],
   "source": [
    "import numpy as np\n",
    "import matplotlib.pyplot as plt\n",
    "\n",
    "def f(y, t):\n",
    "    \"\"\"ODE function: y' = -100y + 100t + 101\"\"\"\n",
    "    return -100 * y + 100 * t + 101\n",
    "\n",
    "def euler(y0, h, n_steps):\n",
    "    \"\"\"Euler method for solving y' = f(y,t)\"\"\"\n",
    "    y = np.zeros(n_steps + 1)\n",
    "    t = np.zeros(n_steps + 1)\n",
    "\n",
    "    # initial condition\n",
    "    y[0] = y0\n",
    "    t[0] = 0.0\n",
    "\n",
    "    for k in range(n_steps):\n",
    "        y[k+1] = y[k] + h * f(y[k], t[k])\n",
    "        t[k+1] = (k+1) * h\n",
    "\n",
    "    return t, y"
   ]
  },
  {
   "cell_type": "markdown",
   "id": "3c0e1afe",
   "metadata": {
    "lines_to_next_cell": 0
   },
   "source": [
    "The first few iterations are supposed to be\n",
    "$$\n",
    "\\begin{align*}\n",
    "   y_0 &= 1\\\\\n",
    "   y_1 &= 1 +   0.1(-100 \\cdot 1  + 100 \\cdot 0.0 + 101) = 1.1\\\\\n",
    "   y_2 &= 1.1 + 0.1(-100 \\cdot 1.1  + 100 \\cdot 0.1 + 101) = 1.2\\\\\n",
    "   y_3 &= 1.1 + 0.1(-100 \\cdot 1.2 + 100 \\cdot 0.2 + 101) = 1.3\\\\\n",
    "\\end{align*}\n",
    "$$\n",
    "It is easy to simplify the iterates"
   ]
  },
  {
   "cell_type": "code",
   "execution_count": 2,
   "id": "7af05419",
   "metadata": {},
   "outputs": [],
   "source": [
    "def euler_stab(y0, h, n_steps):\n",
    "    \"\"\"Euler method for solving y' = f(y,t)\"\"\"\n",
    "    y = np.zeros(n_steps + 1)\n",
    "    t = np.zeros(n_steps + 1)\n",
    "\n",
    "    # initial condition\n",
    "    y[0] = y0\n",
    "    t[0] = 0.0\n",
    "\n",
    "    for k in range(n_steps):\n",
    "        y[k+1] = 1 + h * (k+1)\n",
    "        t[k+1] = (k+1) * h\n",
    "\n",
    "    return t, y"
   ]
  },
  {
   "cell_type": "code",
   "execution_count": 3,
   "id": "fbfaff83",
   "metadata": {
    "lines_to_next_cell": 2
   },
   "outputs": [
    {
     "name": "stdout",
     "output_type": "stream",
     "text": [
      "[ 1.00000000e+00  1.10000000e+00  1.20000000e+00  1.30000000e+00\n",
      "  1.40000000e+00  1.50000000e+00  1.60000000e+00  1.70000000e+00\n",
      "  1.80000000e+00  1.90000001e+00  1.99999994e+00  2.10000055e+00\n",
      "  2.19999506e+00  2.30004449e+00  2.39959963e+00  2.50360329e+00\n",
      "  2.56757039e+00  2.99186647e+00  1.73201797e-01  2.65411838e+01\n",
      " -2.09770654e+02]\n",
      "[1.  1.1 1.2 1.3 1.4 1.5 1.6 1.7 1.8 1.9 2.  2.1 2.2 2.3 2.4 2.5 2.6 2.7\n",
      " 2.8 2.9 3. ]\n"
     ]
    }
   ],
   "source": [
    "# Parameters\n",
    "y0 = 1       # initial condition\n",
    "h = 0.1      # step size\n",
    "n_steps = 20 # number of iterations\n",
    "\n",
    "t, y_euler = euler(y0, h, n_steps)\n",
    "_, y_euler_stab = euler_stab(y0, h, n_steps)\n",
    "print(y_euler)\n",
    "print(y_euler_stab)"
   ]
  }
 ],
 "metadata": {
  "jupytext": {
   "cell_metadata_filter": "-all",
   "main_language": "python",
   "notebook_metadata_filter": "-all"
  },
  "kernelspec": {
   "display_name": "Python 3 (ipykernel)",
   "language": "python",
   "name": "python3"
  },
  "language_info": {
   "codemirror_mode": {
    "name": "ipython",
    "version": 3
   },
   "file_extension": ".py",
   "mimetype": "text/x-python",
   "name": "python",
   "nbconvert_exporter": "python",
   "pygments_lexer": "ipython3",
   "version": "3.13.7"
  }
 },
 "nbformat": 4,
 "nbformat_minor": 5
}
