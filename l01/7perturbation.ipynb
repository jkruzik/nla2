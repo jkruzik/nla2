{
 "cells": [
  {
   "cell_type": "markdown",
   "id": "785e9639",
   "metadata": {
    "lines_to_next_cell": 0
   },
   "source": [
    "## Solving Ill Conditioned System of Linear Equations"
   ]
  },
  {
   "cell_type": "code",
   "execution_count": 1,
   "id": "ad2db326",
   "metadata": {
    "lines_to_next_cell": 1
   },
   "outputs": [],
   "source": [
    "import numpy as np\n",
    "\n",
    "# Define a nearly singular matrix\n",
    "A = np.array([[1, 1],\n",
    "              [1, 1.0001]], dtype=float)\n",
    "\n",
    "# Define right-hand side\n",
    "b = np.array([2, 2.0001], dtype=float)\n",
    "\n",
    "# Exact solution using numpy solver\n",
    "x_exact = np.linalg.solve(A, b)"
   ]
  },
  {
   "cell_type": "markdown",
   "id": "f33efd01",
   "metadata": {
    "lines_to_next_cell": 0
   },
   "source": [
    "Solution using [Cramer's rule](https://en.wikipedia.org/wiki/Cramer%27s_rule)"
   ]
  },
  {
   "cell_type": "code",
   "execution_count": 2,
   "id": "f157c99e",
   "metadata": {},
   "outputs": [],
   "source": [
    "def cramer_rule(A, b):\n",
    "    det = A[0,0]*A[1,1] - A[0,1]*A[1,0]\n",
    "    x = np.array([(b[0]*A[1,1] - b[1]*A[0,1]) / det,\n",
    "                  (A[0,0]*b[1] - A[1,0]*b[0]) / det])\n",
    "    return x\n",
    "\n",
    "x_cramer = cramer_rule(A, b)"
   ]
  },
  {
   "cell_type": "markdown",
   "id": "281a0768",
   "metadata": {
    "lines_to_next_cell": 0
   },
   "source": [
    "Perturb b slightly"
   ]
  },
  {
   "cell_type": "code",
   "execution_count": 3,
   "id": "30dc31fe",
   "metadata": {},
   "outputs": [],
   "source": [
    "b_perturbed = b + np.array([1e-5, -1e-5])\n",
    "x_perturbed = np.linalg.solve(A, b_perturbed)"
   ]
  },
  {
   "cell_type": "markdown",
   "id": "b9060c16",
   "metadata": {
    "lines_to_next_cell": 0
   },
   "source": [
    "Print results"
   ]
  },
  {
   "cell_type": "code",
   "execution_count": 4,
   "id": "fdc3724f",
   "metadata": {},
   "outputs": [
    {
     "name": "stdout",
     "output_type": "stream",
     "text": [
      "Matrix A:\n",
      "[[1.     1.    ]\n",
      " [1.     1.0001]]\n",
      "\n",
      "Original b: [2.     2.0001]\n",
      "Solution (numpy): [1. 1.]\n",
      "Solution (Cramer): [1. 1.]\n",
      "\n",
      "Perturbed b: [2.00001 2.00009]\n",
      "Solution for perturbed b: [1.20001 0.8    ]\n",
      "\n",
      "Relative error in solution due to small perturbation in b: 0.20000500006383065\n"
     ]
    }
   ],
   "source": [
    "print(\"Matrix A:\")\n",
    "print(A)\n",
    "print(\"\\nOriginal b:\", b)\n",
    "print(\"Solution (numpy):\", x_exact)\n",
    "print(\"Solution (Cramer):\", x_cramer)\n",
    "print(\"\\nPerturbed b:\", b_perturbed)\n",
    "print(\"Solution for perturbed b:\", x_perturbed)\n",
    "\n",
    "rel_error = np.linalg.norm(x_perturbed - x_exact) / np.linalg.norm(x_exact)\n",
    "print(\"\\nRelative error in solution due to small perturbation in b:\", rel_error)"
   ]
  },
  {
   "cell_type": "code",
   "execution_count": 5,
   "id": "6c712c67",
   "metadata": {},
   "outputs": [],
   "source": [
    "# TODO compute the relative backward error.\n",
    "# Is np.linalg.solve() backward stable?\n",
    "# Compute the solution of perturbed system using Cramer's rule. Check the relative error and backward stability.\n",
    "# Is Cramer's rule backward stable?"
   ]
  }
 ],
 "metadata": {
  "jupytext": {
   "cell_metadata_filter": "-all",
   "main_language": "python",
   "notebook_metadata_filter": "-all"
  },
  "kernelspec": {
   "display_name": "Python 3 (ipykernel)",
   "language": "python",
   "name": "python3"
  },
  "language_info": {
   "codemirror_mode": {
    "name": "ipython",
    "version": 3
   },
   "file_extension": ".py",
   "mimetype": "text/x-python",
   "name": "python",
   "nbconvert_exporter": "python",
   "pygments_lexer": "ipython3",
   "version": "3.13.7"
  }
 },
 "nbformat": 4,
 "nbformat_minor": 5
}
