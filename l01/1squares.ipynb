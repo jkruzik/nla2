{
 "cells": [
  {
   "cell_type": "markdown",
   "id": "6fb018e2",
   "metadata": {
    "lines_to_next_cell": 0
   },
   "source": [
    "## Catastrophic cancellation"
   ]
  },
  {
   "cell_type": "code",
   "execution_count": 1,
   "id": "00b4ba4f",
   "metadata": {
    "lines_to_next_cell": 2
   },
   "outputs": [
    {
     "name": "stdout",
     "output_type": "stream",
     "text": [
      "x                       y                       naive                   stable                  ~correct (dec) digits\n",
      "1.00000000000000000e+00 9.99999900000000053e-01 1.99999989902721609e-07 1.99999989894728847e-07 10.398333108332723\n",
      "1.00000000186264515e+00 1.00000000093132257e+00 1.86264514923095703e-09 1.86264515183304225e-09 8.854808611470457\n",
      "1.00000000000000000e+08 9.99999990000000000e+07 1.99999998000000000e+08 1.99999999000000000e+08 8.30102999349251\n"
     ]
    }
   ],
   "source": [
    "import numpy as np\n",
    "\n",
    "def naive(x, y):\n",
    "    return x**2 - y**2\n",
    "\n",
    "def stable(x, y):\n",
    "    return (x - y) * (x + y)\n",
    "\n",
    "pairs = [\n",
    "    (1.0, 0.9999999),\n",
    "    (1.0+2**(-29), 1.0+2**(-30)),\n",
    "    (1e8, 1e8 - 1),\n",
    "]\n",
    "\n",
    "print(f\"{'x':<23} {'y':<23} {'naive':<23} {'stable':<23} ~correct (dec) digits\")\n",
    "for x, y in pairs:\n",
    "    n = naive(x, y)\n",
    "    s = stable(x, y)\n",
    "    rel_error = abs((n - s) / s) if s != 0 else np.nan\n",
    "    digits = max(0, -np.log10(rel_error)) if rel_error > 0 else -1\n",
    "    print(f\"{x:.17e} {y:.17e} {n:.17e} {s:.17e} {digits}\")"
   ]
  }
 ],
 "metadata": {
  "jupytext": {
   "cell_metadata_filter": "-all",
   "main_language": "python",
   "notebook_metadata_filter": "-all"
  },
  "kernelspec": {
   "display_name": "Python 3 (ipykernel)",
   "language": "python",
   "name": "python3"
  },
  "language_info": {
   "codemirror_mode": {
    "name": "ipython",
    "version": 3
   },
   "file_extension": ".py",
   "mimetype": "text/x-python",
   "name": "python",
   "nbconvert_exporter": "python",
   "pygments_lexer": "ipython3",
   "version": "3.13.7"
  }
 },
 "nbformat": 4,
 "nbformat_minor": 5
}
