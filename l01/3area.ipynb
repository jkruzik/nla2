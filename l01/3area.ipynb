{
 "cells": [
  {
   "cell_type": "markdown",
   "id": "73f04116",
   "metadata": {
    "lines_to_next_cell": 0
   },
   "source": [
    "## Example of computing area of a needle-like triangles\n",
    "ref [W. Kahan \"Miscalculating Area and Angles of a Needle-like Triangle\" (2014)](https://people.eecs.berkeley.edu/~wkahan/Triangle.pdf)"
   ]
  },
  {
   "cell_type": "code",
   "execution_count": 1,
   "id": "59fa6761",
   "metadata": {
    "lines_to_next_cell": 1
   },
   "outputs": [],
   "source": [
    "import numpy as np\n",
    "import math\n",
    "import random\n",
    "import matplotlib.pyplot as plt\n",
    "from mpmath import mp, mpf, sqrt as mpsqrt"
   ]
  },
  {
   "cell_type": "markdown",
   "id": "5b85a05f",
   "metadata": {
    "lines_to_next_cell": 0
   },
   "source": [
    "standard formula"
   ]
  },
  {
   "cell_type": "code",
   "execution_count": 2,
   "id": "8e9f3ae4",
   "metadata": {
    "lines_to_next_cell": 1
   },
   "outputs": [],
   "source": [
    "def heron_area(a, b, c):\n",
    "    s = 0.5 * (a + b + c)\n",
    "    val = s * (s - a) * (s - b) * (s - c)\n",
    "    if val <= 0:\n",
    "        return 0.0\n",
    "    return math.sqrt(val)"
   ]
  },
  {
   "cell_type": "markdown",
   "id": "3d1c2ae9",
   "metadata": {
    "lines_to_next_cell": 0
   },
   "source": [
    "stable formula, which needs a >= b >= c"
   ]
  },
  {
   "cell_type": "code",
   "execution_count": 3,
   "id": "78a337eb",
   "metadata": {
    "lines_to_next_cell": 1
   },
   "outputs": [],
   "source": [
    "def kahan_area(a, b, c):\n",
    "    # Sort sides descending: a >= b >= c\n",
    "    sides = sorted([a, b, c], reverse=True)\n",
    "    a, b, c = sides\n",
    "    if a >= b + c:\n",
    "        return 0.0\n",
    "    t1 = a + (b + c)\n",
    "    t2 = c - (a - b)\n",
    "    t3 = c + (a - b)\n",
    "    t4 = a + (b - c)\n",
    "    prod = t1 * t2 * t3 * t4\n",
    "    if prod <= 0:\n",
    "        return 0.0\n",
    "    return 0.25 * math.sqrt(prod)"
   ]
  },
  {
   "cell_type": "markdown",
   "id": "dbf84a8e",
   "metadata": {
    "lines_to_next_cell": 0
   },
   "source": [
    "We can use arbitrary precision using mpmath library"
   ]
  },
  {
   "cell_type": "code",
   "execution_count": 4,
   "id": "4207aa90",
   "metadata": {},
   "outputs": [],
   "source": [
    "mp.dps = 80  # high precision for reference computation (decimal places)\n",
    "\n",
    "def mp_heron_area(a, b, c):\n",
    "    a, b, c = mp.mpf(a), mp.mpf(b), mp.mpf(c)\n",
    "    s = (a + b + c) / 2\n",
    "    val = s * (s - a) * (s - b) * (s - c)\n",
    "    if val <= 0:\n",
    "        return mp.mpf('0')\n",
    "    return mpsqrt(val)"
   ]
  },
  {
   "cell_type": "markdown",
   "id": "697f03b5",
   "metadata": {
    "lines_to_next_cell": 0
   },
   "source": [
    "TODO change the values and see how wrong the results can get, then see the examples in the reference"
   ]
  },
  {
   "cell_type": "code",
   "execution_count": 5,
   "id": "7950c659",
   "metadata": {},
   "outputs": [
    {
     "name": "stdout",
     "output_type": "stream",
     "text": [
      "Heron area 2.3421624623412036, absolute error: 3.51056758108708477e-14, relative error: 1.50e-14\n",
      "Kahan area 2.3421624623411685, absolute error: 2.26282327158984275e-17, relative error: 9.66e-18\n"
     ]
    }
   ],
   "source": [
    "a = 9.0\n",
    "b = 4.53\n",
    "c = b\n",
    "\n",
    "h = heron_area(a,b,c)\n",
    "k = kahan_area(a,b,c)\n",
    "m = mp_heron_area(a,b,c)\n",
    "\n",
    "print(f\"Heron area {h}, absolute error: {float(h-m):.17e}, relative error: {float((h-m)/m):.2e}\")\n",
    "print(f\"Kahan area {k}, absolute error: {float(k-m):.17e}, relative error: {float((k-m)/m):.2e}\")"
   ]
  }
 ],
 "metadata": {
  "jupytext": {
   "cell_metadata_filter": "-all",
   "main_language": "python",
   "notebook_metadata_filter": "-all"
  },
  "kernelspec": {
   "display_name": "Python 3 (ipykernel)",
   "language": "python",
   "name": "python3"
  },
  "language_info": {
   "codemirror_mode": {
    "name": "ipython",
    "version": 3
   },
   "file_extension": ".py",
   "mimetype": "text/x-python",
   "name": "python",
   "nbconvert_exporter": "python",
   "pygments_lexer": "ipython3",
   "version": "3.13.7"
  }
 },
 "nbformat": 4,
 "nbformat_minor": 5
}
