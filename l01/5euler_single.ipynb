{
 "cells": [
  {
   "cell_type": "markdown",
   "id": "711dc4d2",
   "metadata": {
    "lines_to_next_cell": 0
   },
   "source": [
    "## Error Accumulation\n",
    "Same as the previous example, but in single precision"
   ]
  },
  {
   "cell_type": "code",
   "execution_count": 1,
   "id": "7a30b4a7",
   "metadata": {
    "lines_to_next_cell": 2
   },
   "outputs": [
    {
     "name": "stdout",
     "output_type": "stream",
     "text": [
      "[ 1.0000000e+00  1.1000000e+00  1.2000000e+00  1.2999992e+00\n",
      "  1.4000069e+00  1.4999382e+00  1.6005563e+00  1.6949944e+00\n",
      "  1.8450494e+00  1.4945550e+00  5.6490045e+00 -3.0741041e+01\n",
      "  2.9776938e+02 -2.6578245e+03  2.3943520e+04 -2.1546759e+05\n",
      "  1.9392336e+06 -1.7453076e+07  1.5707773e+08 -1.4136996e+09\n",
      "  1.2723297e+10 -1.1450967e+11  1.0305871e+12 -9.2752839e+12\n",
      "  8.3477555e+13 -7.5129796e+14  6.7616819e+15 -6.0855134e+16\n",
      "  5.4769615e+17 -4.9292657e+18  4.4363394e+19 -3.9927057e+20\n",
      "  3.5934354e+21 -3.2340919e+22  2.9106826e+23 -2.6196143e+24\n",
      "  2.3576530e+25 -2.1218878e+26  1.9096992e+27 -1.7187292e+28\n",
      "  1.5468564e+29 -1.3921707e+30  1.2529537e+31 -1.1276583e+32\n",
      "  1.0148926e+33 -9.1340335e+33  8.2206305e+34 -7.3985683e+35\n",
      "  6.6587119e+36           -inf            nan            nan]\n",
      "[1.        1.1       1.2       1.3       1.4       1.5       1.6\n",
      " 1.7       1.8       1.9000001 2.        2.1       2.2       2.3000002\n",
      " 2.4       2.5       2.6       2.7       2.8000002 2.9       3.\n",
      " 3.1000001 3.2       3.3       3.4       3.5       3.6000001 3.7\n",
      " 3.8       3.9       4.        4.1000004 4.2       4.3       4.4\n",
      " 4.5       4.6000004 4.7       4.8       4.9       5.        5.1\n",
      " 5.2000003 5.3       5.4       5.5       5.6       5.7000003 5.8\n",
      " 5.9       6.        6.1      ]\n"
     ]
    },
    {
     "name": "stderr",
     "output_type": "stream",
     "text": [
      "/tmp/ipykernel_198877/3770083830.py:7: RuntimeWarning: overflow encountered in scalar multiply\n",
      "  return np.float32(-100.0) * y + np.float32(100.0) * t + np.float32(101.0)\n",
      "/tmp/ipykernel_198877/3770083830.py:20: RuntimeWarning: invalid value encountered in scalar add\n",
      "  y[k+1] = y[k] + h * f(y[k], t[k])\n"
     ]
    }
   ],
   "source": [
    "import numpy as np\n",
    "import matplotlib.pyplot as plt\n",
    "\n",
    "def f(y, t):\n",
    "    \"\"\"ODE function: y' = -100y + 100t + 101\"\"\"\n",
    "    # ensure float32 output\n",
    "    return np.float32(-100.0) * y + np.float32(100.0) * t + np.float32(101.0)\n",
    "\n",
    "def euler(y0, h, n_steps):\n",
    "    \"\"\"Euler method for solving y' = f(y,t) with float32 precision\"\"\"\n",
    "    y = np.zeros(n_steps + 1, dtype=np.float32)\n",
    "    t = np.zeros(n_steps + 1, dtype=np.float32)\n",
    "\n",
    "    # initial condition\n",
    "    y[0] = np.float32(y0)\n",
    "    t[0] = np.float32(0.0)\n",
    "    h = np.float32(h)\n",
    "\n",
    "    for k in range(n_steps):\n",
    "        y[k+1] = y[k] + h * f(y[k], t[k])\n",
    "        t[k+1] = (k+1) * h\n",
    "\n",
    "    return t, y\n",
    "\n",
    "def euler_stab(y0, h, n_steps):\n",
    "    \"\"\"Euler method for solving y' = f(y,t) with float32 precision\"\"\"\n",
    "    y = np.zeros(n_steps + 1, dtype=np.float32)\n",
    "    t = np.zeros(n_steps + 1, dtype=np.float32)\n",
    "\n",
    "    # initial condition\n",
    "    y[0] = np.float32(y0)\n",
    "    t[0] = np.float32(0.0)\n",
    "    h = np.float32(h)\n",
    "\n",
    "    for k in range(n_steps):\n",
    "        y[k+1] = y0 + h * np.float32(k+1)\n",
    "        t[k+1] = (k+1) * h\n",
    "\n",
    "    return t, y\n",
    "\n",
    "# Parameters\n",
    "y0 = np.float32(1.0)  # initial condition\n",
    "h = np.float32(0.1)  # step size\n",
    "n_steps = 51         # number of iterations\n",
    "\n",
    "t, y = euler(y0, h, n_steps)\n",
    "t, y_stab = euler_stab(y0, h, n_steps)\n",
    "print(y)\n",
    "print(y_stab)"
   ]
  }
 ],
 "metadata": {
  "jupytext": {
   "cell_metadata_filter": "-all",
   "main_language": "python",
   "notebook_metadata_filter": "-all"
  },
  "kernelspec": {
   "display_name": "Python 3 (ipykernel)",
   "language": "python",
   "name": "python3"
  },
  "language_info": {
   "codemirror_mode": {
    "name": "ipython",
    "version": 3
   },
   "file_extension": ".py",
   "mimetype": "text/x-python",
   "name": "python",
   "nbconvert_exporter": "python",
   "pygments_lexer": "ipython3",
   "version": "3.13.7"
  }
 },
 "nbformat": 4,
 "nbformat_minor": 5
}
