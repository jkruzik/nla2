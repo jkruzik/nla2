{
 "cells": [
  {
   "cell_type": "markdown",
   "id": "b3ff5fc2",
   "metadata": {
    "lines_to_next_cell": 0
   },
   "source": [
    "## Conditioning\n",
    "Evaluate [Wilkinson's polynomial](https://en.wikipedia.org/wiki/Wilkinson's_polynomial) in its roots"
   ]
  },
  {
   "cell_type": "code",
   "execution_count": 1,
   "id": "d83e2ec2",
   "metadata": {
    "execution": {
     "iopub.execute_input": "2025-09-22T13:36:19.669310Z",
     "iopub.status.busy": "2025-09-22T13:36:19.669047Z",
     "iopub.status.idle": "2025-09-22T13:36:20.036677Z",
     "shell.execute_reply": "2025-09-22T13:36:20.035892Z"
    }
   },
   "outputs": [
    {
     "name": "stdout",
     "output_type": "stream",
     "text": [
      "These are the known roots\n",
      " [ 1  2  3  4  5  6  7  8  9 10 11 12 13 14 15 16 17 18 19 20]\n",
      "Polynomial at roots (int) \n",
      "[0 0 0 0 0 0 0 0 0 0 0 0 0 0 0 0 0 0 0 0]\n"
     ]
    }
   ],
   "source": [
    "import numpy as np\n",
    "from sympy import Symbol\n",
    "from sympy.polys.polytools import   poly_from_expr\n",
    "\n",
    "x = Symbol('x')\n",
    "W = 1\n",
    "for i in range(1, 21):\n",
    "    W = W * (x-i)\n",
    "\n",
    "P,d = poly_from_expr(W.expand())\n",
    "p = P.all_coeffs()\n",
    "x = np.arange(1, 21)\n",
    "print(\"These are the known roots\\n\",x)\n",
    "print(\"Polynomial at roots (int) \\n{}\".format(np.polyval(p, x)))"
   ]
  },
  {
   "cell_type": "markdown",
   "id": "4402402e",
   "metadata": {
    "lines_to_next_cell": 0
   },
   "source": [
    "What if the computation is done in double?"
   ]
  },
  {
   "cell_type": "code",
   "execution_count": 2,
   "id": "f0acefa5",
   "metadata": {
    "execution": {
     "iopub.execute_input": "2025-09-22T13:36:20.039785Z",
     "iopub.status.busy": "2025-09-22T13:36:20.039531Z",
     "iopub.status.idle": "2025-09-22T13:36:20.049330Z",
     "shell.execute_reply": "2025-09-22T13:36:20.048835Z"
    }
   },
   "outputs": [
    {
     "name": "stdout",
     "output_type": "stream",
     "text": [
      "\n",
      "Polynomial at roots (double) \n",
      "[0 -8192.00000000000 -18432.0000000000 -622592.000000000 -2048000.00000000\n",
      " -10838016.0000000 -23181312.0000000 -58982400.0000000 -131383296.000000\n",
      " -99328000.0000000 -561532928.000000 -875003904.000000 -1385832448.00000\n",
      " -1975328768.00000 -3808512000.00000 -6029312000.00000 -9619103744.00000\n",
      " -23619133440.0000 -16210505728.0000 -27193344000.0000]\n"
     ]
    }
   ],
   "source": [
    "x = np.arange(1, 21, dtype=np.float64)\n",
    "print(\"\\nPolynomial at roots (double) \\n{}\".format(np.polyval(p, x)))"
   ]
  },
  {
   "cell_type": "markdown",
   "id": "a68857b5",
   "metadata": {
    "lines_to_next_cell": 0
   },
   "source": [
    "The computation gets promoted to double, but..."
   ]
  },
  {
   "cell_type": "code",
   "execution_count": 3,
   "id": "107ef4f2",
   "metadata": {
    "execution": {
     "iopub.execute_input": "2025-09-22T13:36:20.052788Z",
     "iopub.status.busy": "2025-09-22T13:36:20.052598Z",
     "iopub.status.idle": "2025-09-22T13:36:20.057783Z",
     "shell.execute_reply": "2025-09-22T13:36:20.057018Z"
    }
   },
   "outputs": [
    {
     "name": "stdout",
     "output_type": "stream",
     "text": [
      "Coefficients of the polynomial:\n",
      "Integer                       Float                         delta\n",
      "1                             1.000000                      0\n",
      "-210                          -210.000000                   0\n",
      "20615                         20615.000000                  0\n",
      "-1256850                      -1256850.000000               0\n",
      "53327946                      53327946.000000               0\n",
      "-1672280820                   -1672280820.000000            0\n",
      "40171771630                   40171771630.000000            0\n",
      "-756111184500                 -756111184500.000000          0\n",
      "11310276995381                11310276995381.000000         0\n",
      "-135585182899530              -135585182899530.000000       0\n",
      "1307535010540395              1307535010540395.000000       0\n",
      "-10142299865511450            -10142299865511450.000000     0\n",
      "63030812099294896             63030812099294896.000000      0\n",
      "-311333643161390640           -311333643161390656.000000    16\n",
      "1206647803780373360           1206647803780373248.000000    112\n",
      "-3599979517947607200          -3599979517947607040.000000   -160\n",
      "8037811822645051776           8037811822645051392.000000    384\n",
      "-12870931245150988800         -12870931245150988288.000000  -512\n",
      "13803759753640704000          13803759753640704000.000000   0\n",
      "-8752948036761600000          -8752948036761600000.000000   0\n",
      "2432902008176640000           2432902008176640000.000000    0\n"
     ]
    }
   ],
   "source": [
    "print(\"Coefficients of the polynomial:\")\n",
    "print('{:<30s}{:<30s}{}'.format('Integer','Float','delta'))\n",
    "for pj in p:\n",
    "    print('{:<30}{:<30f}{}'.format(int(pj), float(pj), pj - int(float(pj))))"
   ]
  },
  {
   "cell_type": "markdown",
   "id": "25ac7fe9",
   "metadata": {
    "lines_to_next_cell": 0
   },
   "source": [
    "Relatively small changes to the coefficients cause the evaluated polynomial to blow up because it is ill conditioned.\n",
    "Let us slightly modify the coefficient of x^19"
   ]
  },
  {
   "cell_type": "code",
   "execution_count": 4,
   "id": "cc79b53e",
   "metadata": {
    "execution": {
     "iopub.execute_input": "2025-09-22T13:36:20.060604Z",
     "iopub.status.busy": "2025-09-22T13:36:20.060415Z",
     "iopub.status.idle": "2025-09-22T13:36:20.065913Z",
     "shell.execute_reply": "2025-09-22T13:36:20.065162Z"
    }
   },
   "outputs": [
    {
     "name": "stdout",
     "output_type": "stream",
     "text": [
      "\n",
      "coeff at x^19: -210, modified coeff at x^19 -210.000000119209\n",
      "Roots from numpy with shifted coeff:\n",
      " [20.84690817+0.j         19.50244375+1.94032809j 19.50244375-1.94032809j\n",
      " 16.73076052+2.81262464j 16.73076052-2.81262464j 13.99242956+2.51886974j\n",
      " 13.99242956-2.51886974j 11.79370429+1.65254293j 11.79370429-1.65254293j\n",
      " 10.09505539+0.64371453j 10.09505539-0.64371453j  8.91746117+0.j\n",
      "  8.00709971+0.j          6.99974432+0.j          5.99999909+0.j\n",
      "  5.00000068+0.j          3.99999996+0.j          3.        +0.j\n",
      "  2.        +0.j          1.        +0.j        ]\n"
     ]
    }
   ],
   "source": [
    "p1 = p[1] - 2**(-23)\n",
    "print(f\"\\ncoeff at x^19: {p[1]}, modified coeff at x^19 {p1}\")\n",
    "p[1] = p1\n",
    "\n",
    "rootsp = np.roots(p)\n",
    "print(\"Roots from numpy with shifted coeff:\\n\", rootsp)"
   ]
  },
  {
   "cell_type": "markdown",
   "id": "8f505c15",
   "metadata": {},
   "source": [
    "See [Conditioning of Wilkinson's polynomial](https://en.wikipedia.org/wiki/Wilkinson%27s_polynomial#Conditioning_of_Wilkinson's_polynomial)"
   ]
  }
 ],
 "metadata": {
  "jupytext": {
   "cell_metadata_filter": "-all",
   "main_language": "python",
   "notebook_metadata_filter": "-all"
  },
  "kernelspec": {
   "display_name": "Python 3 (ipykernel)",
   "language": "python",
   "name": "python3"
  },
  "language_info": {
   "codemirror_mode": {
    "name": "ipython",
    "version": 3
   },
   "file_extension": ".py",
   "mimetype": "text/x-python",
   "name": "python",
   "nbconvert_exporter": "python",
   "pygments_lexer": "ipython3",
   "version": "3.13.7"
  }
 },
 "nbformat": 4,
 "nbformat_minor": 5
}
