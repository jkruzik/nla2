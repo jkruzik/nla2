{
 "cells": [
  {
   "cell_type": "markdown",
   "id": "9f89efae",
   "metadata": {
    "lines_to_next_cell": 0
   },
   "source": [
    "## Conditioning\n",
    "Evaluate [Wilkinson's polynomial](https://en.wikipedia.org/wiki/Wilkinson's_polynomial) in its roots"
   ]
  },
  {
   "cell_type": "code",
   "execution_count": 1,
   "id": "25619d49",
   "metadata": {},
   "outputs": [
    {
     "name": "stdout",
     "output_type": "stream",
     "text": [
      "These are the known roots\n",
      " [ 1  2  3  4  5  6  7  8  9 10 11 12 13 14 15 16 17 18 19 20]\n",
      "Polynomial at roots (int) \n",
      "[0 0 0 0 0 0 0 0 0 0 0 0 0 0 0 0 0 0 0 0]\n"
     ]
    }
   ],
   "source": [
    "import numpy as np\n",
    "from sympy import Symbol\n",
    "from sympy.polys.polytools import   poly_from_expr\n",
    "\n",
    "x = Symbol('x')\n",
    "W = 1\n",
    "for i in range(1, 21):\n",
    "    W = W * (x-i)\n",
    "\n",
    "P,d = poly_from_expr(W.expand())\n",
    "p = P.all_coeffs()\n",
    "x = np.arange(1, 21)\n",
    "print(\"These are the known roots\\n\",x)\n",
    "print(\"Polynomial at roots (int) \\n{}\".format(np.polyval(p, x)))"
   ]
  },
  {
   "cell_type": "markdown",
   "id": "00dd3013",
   "metadata": {
    "lines_to_next_cell": 0
   },
   "source": [
    "What if the computation is done in double?"
   ]
  },
  {
   "cell_type": "code",
   "execution_count": 2,
   "id": "ed689ef5",
   "metadata": {},
   "outputs": [
    {
     "name": "stdout",
     "output_type": "stream",
     "text": [
      "\n",
      "Polynomial at roots (double) \n",
      "[0 -8192.00000000000 -18432.0000000000 -622592.000000000 -2048000.00000000\n",
      " -10838016.0000000 -23181312.0000000 -58982400.0000000 -131383296.000000\n",
      " -99328000.0000000 -561532928.000000 -875003904.000000 -1385832448.00000\n",
      " -1975328768.00000 -3808512000.00000 -6029312000.00000 -9619103744.00000\n",
      " -23619133440.0000 -16210505728.0000 -27193344000.0000]\n"
     ]
    }
   ],
   "source": [
    "x = np.arange(1, 21, dtype=np.float64)\n",
    "print(\"\\nPolynomial at roots (double) \\n{}\".format(np.polyval(p, x)))"
   ]
  },
  {
   "cell_type": "markdown",
   "id": "b11e6a1e",
   "metadata": {
    "lines_to_next_cell": 0
   },
   "source": [
    "The computation gets promoted to double, but..."
   ]
  },
  {
   "cell_type": "code",
   "execution_count": 3,
   "id": "219a7aa9",
   "metadata": {},
   "outputs": [
    {
     "name": "stdout",
     "output_type": "stream",
     "text": [
      "Coefficients of the polynomial:\n",
      "Integer                       Float                         delta\n",
      "1                             1.000000                      0\n",
      "-210                          -210.000000                   0\n",
      "20615                         20615.000000                  0\n",
      "-1256850                      -1256850.000000               0\n",
      "53327946                      53327946.000000               0\n",
      "-1672280820                   -1672280820.000000            0\n",
      "40171771630                   40171771630.000000            0\n",
      "-756111184500                 -756111184500.000000          0\n",
      "11310276995381                11310276995381.000000         0\n",
      "-135585182899530              -135585182899530.000000       0\n",
      "1307535010540395              1307535010540395.000000       0\n",
      "-10142299865511450            -10142299865511450.000000     0\n",
      "63030812099294896             63030812099294896.000000      0\n",
      "-311333643161390640           -311333643161390656.000000    16\n",
      "1206647803780373360           1206647803780373248.000000    112\n",
      "-3599979517947607200          -3599979517947607040.000000   -160\n",
      "8037811822645051776           8037811822645051392.000000    384\n",
      "-12870931245150988800         -12870931245150988288.000000  -512\n",
      "13803759753640704000          13803759753640704000.000000   0\n",
      "-8752948036761600000          -8752948036761600000.000000   0\n",
      "2432902008176640000           2432902008176640000.000000    0\n"
     ]
    }
   ],
   "source": [
    "print(\"Coefficients of the polynomial:\")\n",
    "print('{:<30s}{:<30s}{}'.format('Integer','Float','delta'))\n",
    "for pj in p:\n",
    "    print('{:<30}{:<30f}{}'.format(int(pj), float(pj), pj - int(float(pj))))"
   ]
  },
  {
   "cell_type": "markdown",
   "id": "2ad93a0d",
   "metadata": {},
   "source": [
    "Relatively small changes to the coefficients cause the evaluated polynomial to blow up because it is ill conditioned."
   ]
  }
 ],
 "metadata": {
  "jupytext": {
   "cell_metadata_filter": "-all",
   "main_language": "python",
   "notebook_metadata_filter": "-all"
  },
  "kernelspec": {
   "display_name": "Python 3 (ipykernel)",
   "language": "python",
   "name": "python3"
  },
  "language_info": {
   "codemirror_mode": {
    "name": "ipython",
    "version": 3
   },
   "file_extension": ".py",
   "mimetype": "text/x-python",
   "name": "python",
   "nbconvert_exporter": "python",
   "pygments_lexer": "ipython3",
   "version": "3.13.7"
  }
 },
 "nbformat": 4,
 "nbformat_minor": 5
}
