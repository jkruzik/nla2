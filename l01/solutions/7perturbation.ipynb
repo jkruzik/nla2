{
 "cells": [
  {
   "cell_type": "markdown",
   "id": "0911e13d",
   "metadata": {
    "lines_to_next_cell": 0
   },
   "source": [
    "## Solving Ill Conditioned System of Linear Equations"
   ]
  },
  {
   "cell_type": "code",
   "execution_count": 1,
   "id": "ce09fa50",
   "metadata": {
    "execution": {
     "iopub.execute_input": "2025-09-22T15:20:21.089140Z",
     "iopub.status.busy": "2025-09-22T15:20:21.088782Z",
     "iopub.status.idle": "2025-09-22T15:20:21.167757Z",
     "shell.execute_reply": "2025-09-22T15:20:21.167055Z"
    },
    "lines_to_next_cell": 1
   },
   "outputs": [],
   "source": [
    "import numpy as np\n",
    "\n",
    "# Define a nearly singular matrix\n",
    "A = np.array([[1, 1],\n",
    "              [1, 1.0001]], dtype=float)\n",
    "\n",
    "# Define right-hand side\n",
    "b = np.array([2, 2.0001], dtype=float)\n",
    "\n",
    "# Exact solution using numpy solver\n",
    "x_exact = np.linalg.solve(A, b)"
   ]
  },
  {
   "cell_type": "markdown",
   "id": "a27cbb40",
   "metadata": {
    "lines_to_next_cell": 0
   },
   "source": [
    "Solution using [Cramer's rule](https://en.wikipedia.org/wiki/Cramer%27s_rule)"
   ]
  },
  {
   "cell_type": "code",
   "execution_count": 2,
   "id": "5604aee1",
   "metadata": {
    "execution": {
     "iopub.execute_input": "2025-09-22T15:20:21.169716Z",
     "iopub.status.busy": "2025-09-22T15:20:21.169506Z",
     "iopub.status.idle": "2025-09-22T15:20:21.173280Z",
     "shell.execute_reply": "2025-09-22T15:20:21.172633Z"
    }
   },
   "outputs": [],
   "source": [
    "def cramer_rule(A, b):\n",
    "    det = A[0,0]*A[1,1] - A[0,1]*A[1,0]\n",
    "    x = np.array([(b[0]*A[1,1] - b[1]*A[0,1]) / det,\n",
    "                  (A[0,0]*b[1] - A[1,0]*b[0]) / det])\n",
    "    return x\n",
    "\n",
    "x_cramer = cramer_rule(A, b)"
   ]
  },
  {
   "cell_type": "markdown",
   "id": "50fa3a1c",
   "metadata": {
    "lines_to_next_cell": 0
   },
   "source": [
    "Perturb b slightly"
   ]
  },
  {
   "cell_type": "code",
   "execution_count": 3,
   "id": "538c9bef",
   "metadata": {
    "execution": {
     "iopub.execute_input": "2025-09-22T15:20:21.174841Z",
     "iopub.status.busy": "2025-09-22T15:20:21.174683Z",
     "iopub.status.idle": "2025-09-22T15:20:21.177695Z",
     "shell.execute_reply": "2025-09-22T15:20:21.177088Z"
    }
   },
   "outputs": [],
   "source": [
    "b_perturbed = b + np.array([1e-5, -1e-5])\n",
    "x_perturbed = np.linalg.solve(A, b_perturbed)"
   ]
  },
  {
   "cell_type": "markdown",
   "id": "6ee25380",
   "metadata": {
    "lines_to_next_cell": 0
   },
   "source": [
    "Print results"
   ]
  },
  {
   "cell_type": "code",
   "execution_count": 4,
   "id": "ae918dac",
   "metadata": {
    "execution": {
     "iopub.execute_input": "2025-09-22T15:20:21.179197Z",
     "iopub.status.busy": "2025-09-22T15:20:21.179041Z",
     "iopub.status.idle": "2025-09-22T15:20:21.185247Z",
     "shell.execute_reply": "2025-09-22T15:20:21.184569Z"
    }
   },
   "outputs": [
    {
     "name": "stdout",
     "output_type": "stream",
     "text": [
      "Matrix A:\n",
      "[[1.     1.    ]\n",
      " [1.     1.0001]]\n",
      "\n",
      "Original b: [2.     2.0001]\n",
      "Solution (numpy): [1. 1.]\n",
      "Solution (Cramer): [1. 1.]\n",
      "\n",
      "Perturbed b: [2.00001 2.00009]\n",
      "Solution for perturbed b: [1.20001 0.8    ]\n",
      "\n",
      "Relative error in solution due to small perturbation in b: 0.20000500006383065\n"
     ]
    }
   ],
   "source": [
    "print(\"Matrix A:\")\n",
    "print(A)\n",
    "print(\"\\nOriginal b:\", b)\n",
    "print(\"Solution (numpy):\", x_exact)\n",
    "print(\"Solution (Cramer):\", x_cramer)\n",
    "print(\"\\nPerturbed b:\", b_perturbed)\n",
    "print(\"Solution for perturbed b:\", x_perturbed)\n",
    "\n",
    "def forward_error(x_true, x_computed):\n",
    "    return np.linalg.norm(x_true - x_computed) / np.linalg.norm(x_true)\n",
    "\n",
    "def backward_error(A, b, x):\n",
    "    return np.linalg.norm(b - A @ x)/(np.linalg.norm(b) + np.linalg.norm(A,2)*np.linalg.norm(x))\n",
    "\n",
    "print(\"\\nRelative error in solution due to small perturbation in b:\", forward_error(x_exact, x_perturbed))"
   ]
  },
  {
   "cell_type": "code",
   "execution_count": 5,
   "id": "8eeb8913",
   "metadata": {
    "execution": {
     "iopub.execute_input": "2025-09-22T15:20:21.186776Z",
     "iopub.status.busy": "2025-09-22T15:20:21.186612Z",
     "iopub.status.idle": "2025-09-22T15:20:21.190399Z",
     "shell.execute_reply": "2025-09-22T15:20:21.189761Z"
    }
   },
   "outputs": [
    {
     "name": "stdout",
     "output_type": "stream",
     "text": [
      "Relative backward error: 0.0\n"
     ]
    }
   ],
   "source": [
    "# TODO compute the relative backward error.\n",
    "# Is np.linalg.solve() backward stable?\n",
    "print(\"Relative backward error:\", backward_error(A, b_perturbed, x_perturbed))"
   ]
  },
  {
   "cell_type": "code",
   "execution_count": 6,
   "id": "6db764ec",
   "metadata": {
    "execution": {
     "iopub.execute_input": "2025-09-22T15:20:21.192057Z",
     "iopub.status.busy": "2025-09-22T15:20:21.191898Z",
     "iopub.status.idle": "2025-09-22T15:20:21.196079Z",
     "shell.execute_reply": "2025-09-22T15:20:21.195436Z"
    }
   },
   "outputs": [
    {
     "name": "stdout",
     "output_type": "stream",
     "text": [
      "\n",
      "Relative error in solution (Cramer): 6.172805172534171e-13\n",
      "Relative backward error (Cramer): 2.0480084815858047e-13\n"
     ]
    }
   ],
   "source": [
    "# Compute the solution of perturbed system using Cramer's rule. Check the relative error and backward stability.\n",
    "# Is Cramer's rule backward stable?\n",
    "x_perturbed = cramer_rule(A, b_perturbed)\n",
    "x_exact = np.array([1.20001, 0.8]) # by hand\n",
    "print(\"\\nRelative error in solution (Cramer):\", forward_error(x_exact, x_perturbed))\n",
    "print(\"Relative backward error (Cramer):\", backward_error(A, b_perturbed, x_perturbed))"
   ]
  },
  {
   "cell_type": "markdown",
   "id": "4a61b6b4",
   "metadata": {
    "lines_to_next_cell": 0
   },
   "source": [
    "That is about 3 orders of magnitude above the machine precision. Is it stable? No, see below."
   ]
  },
  {
   "cell_type": "code",
   "execution_count": 7,
   "id": "d030d5cb",
   "metadata": {
    "execution": {
     "iopub.execute_input": "2025-09-22T15:20:21.197793Z",
     "iopub.status.busy": "2025-09-22T15:20:21.197633Z",
     "iopub.status.idle": "2025-09-22T15:20:21.202099Z",
     "shell.execute_reply": "2025-09-22T15:20:21.201375Z"
    }
   },
   "outputs": [
    {
     "name": "stdout",
     "output_type": "stream",
     "text": [
      "\n",
      "Relative error in solution (Cramer): 0.07821538888750428\n",
      "Relative backward error(Cramer): 0.02657636584658371\n"
     ]
    }
   ],
   "source": [
    "A = np.array([[1, 1],\n",
    "              [1, 1 + 1e-15]], dtype=float)\n",
    "x_exact = np.array([1, 1 + 1-15], dtype=float)\n",
    "b = A @ x_exact\n",
    "x = cramer_rule(A, b)\n",
    "print(\"\\nRelative error in solution (Cramer):\", forward_error(x_exact, x))\n",
    "print(\"Relative backward error(Cramer):\", backward_error(A, b, x))"
   ]
  }
 ],
 "metadata": {
  "jupytext": {
   "cell_metadata_filter": "-all",
   "main_language": "python",
   "notebook_metadata_filter": "-all"
  },
  "language_info": {
   "codemirror_mode": {
    "name": "ipython",
    "version": 3
   },
   "file_extension": ".py",
   "mimetype": "text/x-python",
   "name": "python",
   "nbconvert_exporter": "python",
   "pygments_lexer": "ipython3",
   "version": "3.13.7"
  }
 },
 "nbformat": 4,
 "nbformat_minor": 5
}
