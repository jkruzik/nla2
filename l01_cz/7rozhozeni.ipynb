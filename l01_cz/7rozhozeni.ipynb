{
 "cells": [
  {
   "cell_type": "markdown",
   "id": "869a0350",
   "metadata": {
    "lines_to_next_cell": 0
   },
   "source": [
    "## Řešení špatně podmíněných systémů lineárních rovnic"
   ]
  },
  {
   "cell_type": "code",
   "execution_count": null,
   "id": "5a7c457a",
   "metadata": {},
   "outputs": [],
   "source": [
    "import numpy as np\n",
    "\n",
    "# Definujme téměř singulární matici\n",
    "A = np.array([[1, 1], [1, 1.0001]], dtype=float)\n",
    "\n",
    "# Definujme pravou stranu\n",
    "b = np.array([2, 2.0001], dtype=float)\n",
    "\n",
    "# Výpočet přesného řešení pomocí numpy řešiče\n",
    "x_exact = np.linalg.solve(A, b)"
   ]
  },
  {
   "cell_type": "markdown",
   "id": "63ffe99f",
   "metadata": {
    "lines_to_next_cell": 0
   },
   "source": [
    "Řešení pomocí [Kramerova pravidlo](https://en.wikipedia.org/wiki/Cramer%27s_rule)"
   ]
  },
  {
   "cell_type": "code",
   "execution_count": null,
   "id": "e0413acc",
   "metadata": {},
   "outputs": [],
   "source": [
    "def cramer_rule(A, b):\n",
    "    det = A[0, 0] * A[1, 1] - A[0, 1] * A[1, 0]\n",
    "    x = np.array(\n",
    "        [\n",
    "            (b[0] * A[1, 1] - b[1] * A[0, 1]) / det,\n",
    "            (A[0, 0] * b[1] - A[1, 0] * b[0]) / det,\n",
    "        ]\n",
    "    )\n",
    "    return x\n",
    "\n",
    "\n",
    "x_cramer = cramer_rule(A, b)"
   ]
  },
  {
   "cell_type": "markdown",
   "id": "500e8bb2",
   "metadata": {
    "lines_to_next_cell": 0
   },
   "source": [
    "Rozhodíme trošku b"
   ]
  },
  {
   "cell_type": "code",
   "execution_count": null,
   "id": "fe7fda2a",
   "metadata": {},
   "outputs": [],
   "source": [
    "b_perturbed = b + np.array([1e-5, -1e-5])\n",
    "x_perturbed = np.linalg.solve(A, b_perturbed)"
   ]
  },
  {
   "cell_type": "markdown",
   "id": "555cab59",
   "metadata": {
    "lines_to_next_cell": 0
   },
   "source": [
    "Vypíšeme výsledky"
   ]
  },
  {
   "cell_type": "code",
   "execution_count": null,
   "id": "d2a69a4c",
   "metadata": {},
   "outputs": [],
   "source": [
    "print(\"Matice A:\")\n",
    "print(A)\n",
    "print(\"\\nPůvodní b:\", b)\n",
    "print(\"Řešení (numpy):\", x_exact)\n",
    "print(\"Řešení (Cramer):\", x_cramer)\n",
    "print(\"\\nRozhozené b:\", b_perturbed)\n",
    "print(\"Řešení pro rozhozené b:\", x_perturbed)\n",
    "\n",
    "rel_error = np.linalg.norm(x_perturbed - x_exact) / np.linalg.norm(x_exact)\n",
    "print(\"\\nRelativní chyba v řešení, kvůli malému rozhození b:\", rel_error)"
   ]
  },
  {
   "cell_type": "code",
   "execution_count": null,
   "id": "a8e358f6",
   "metadata": {},
   "outputs": [],
   "source": [
    "# TODO vypočtěte relativní zpětnou odchylku\n",
    "# Je np.linalg.solve() zpětně stabilní?\n",
    "# Vypočtěte řešení rozhozeného systému pomocí Kramerova pravidla.\n",
    "# Zaznamejte relativní odchylku a zpětnou stabilitu.\n",
    "# Je Kramerovo pravidlo zpětně stabilní?"
   ]
  }
 ],
 "metadata": {
  "jupytext": {
   "cell_metadata_filter": "-all",
   "main_language": "python",
   "notebook_metadata_filter": "-all"
  }
 },
 "nbformat": 4,
 "nbformat_minor": 5
}
