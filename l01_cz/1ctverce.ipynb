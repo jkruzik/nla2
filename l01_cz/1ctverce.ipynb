{
 "cells": [
  {
   "cell_type": "markdown",
   "id": "aeae53a1",
   "metadata": {
    "lines_to_next_cell": 0
   },
   "source": [
    "## Katastrofické vyrušení"
   ]
  },
  {
   "cell_type": "code",
   "execution_count": null,
   "id": "544b36f5",
   "metadata": {},
   "outputs": [],
   "source": [
    "import numpy as np\n",
    "\n",
    "\n",
    "def naive(x, y):\n",
    "    return x**2 - y**2\n",
    "\n",
    "\n",
    "def stable(x, y):\n",
    "    return (x - y) * (x + y)\n",
    "\n",
    "\n",
    "pairs = [\n",
    "    (1.0, 0.9999999),\n",
    "    (1.0 + 2 ** (-29), 1.0 + 2 ** (-30)),\n",
    "    (1e8, 1e8 - 1),\n",
    "]\n",
    "\n",
    "print(f\"{'x':<23} {'y':<23} {'naivní':<23} {'stabilní':<23} ~správné (dec) číslice\")\n",
    "for x, y in pairs:\n",
    "    n = naive(x, y)\n",
    "    s = stable(x, y)\n",
    "    rel_error = abs((n - s) / s) if s != 0 else np.nan\n",
    "    digits = max(0, -np.log10(rel_error)) if rel_error > 0 else -1\n",
    "    print(f\"{x:.17e} {y:.17e} {n:.17e} {s:.17e} {digits}\")"
   ]
  }
 ],
 "metadata": {
  "jupytext": {
   "cell_metadata_filter": "-all",
   "main_language": "python",
   "notebook_metadata_filter": "-all"
  }
 },
 "nbformat": 4,
 "nbformat_minor": 5
}
