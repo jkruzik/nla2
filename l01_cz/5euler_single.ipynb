{
 "cells": [
  {
   "cell_type": "markdown",
   "id": "f0bf4b72",
   "metadata": {
    "lines_to_next_cell": 0
   },
   "source": [
    "## Hromadění chyb\n",
    "Stejně jako předchozí ukázka, ale v single (32-bit) přesnosti."
   ]
  },
  {
   "cell_type": "code",
   "execution_count": null,
   "id": "e4bd3e57",
   "metadata": {},
   "outputs": [],
   "source": [
    "import numpy as np\n",
    "import matplotlib.pyplot as plt\n",
    "\n",
    "\n",
    "def f(y, t):\n",
    "    \"\"\"funkce ODR: y' = -100y + 100t + 101\"\"\"\n",
    "    # zajisti výstup v 32-bitové přesnosti\n",
    "    return np.float32(-100.0) * y + np.float32(100.0) * t + np.float32(101.0)\n",
    "\n",
    "\n",
    "def euler(y0, h, n_steps):\n",
    "    \"\"\"Eulerova metoda pro řešení y' = f(y,t) s float32 přesností\"\"\"\n",
    "    y = np.zeros(n_steps + 1, dtype=np.float32)\n",
    "    t = np.zeros(n_steps + 1, dtype=np.float32)\n",
    "\n",
    "    # Počáteční podmínky\n",
    "    y[0] = np.float32(y0)\n",
    "    t[0] = np.float32(0.0)\n",
    "    h = np.float32(h)\n",
    "\n",
    "    for k in range(n_steps):\n",
    "        y[k + 1] = y[k] + h * f(y[k], t[k])\n",
    "        t[k + 1] = (k + 1) * h\n",
    "\n",
    "    return t, y\n",
    "\n",
    "\n",
    "def euler_stab(y0, h, n_steps):\n",
    "    \"\"\"Eulerova metoda pro řešení y' = f(y,t) s float32 přesností\"\"\"\n",
    "    y = np.zeros(n_steps + 1, dtype=np.float32)\n",
    "    t = np.zeros(n_steps + 1, dtype=np.float32)\n",
    "\n",
    "    # Počáteční podmínky\n",
    "    y[0] = np.float32(y0)\n",
    "    t[0] = np.float32(0.0)\n",
    "    h = np.float32(h)\n",
    "\n",
    "    for k in range(n_steps):\n",
    "        y[k + 1] = y0 + h * np.float32(k + 1)\n",
    "        t[k + 1] = (k + 1) * h\n",
    "\n",
    "    return t, y\n",
    "\n",
    "\n",
    "# Parametry\n",
    "y0 = 1  # počáteční podmínka\n",
    "h = 0.1  # velikost kroku\n",
    "n_steps = 20  # počet iterací\n",
    "\n",
    "t, y = euler(y0, h, n_steps)\n",
    "t, y_stab = euler_stab(y0, h, n_steps)\n",
    "print(y)\n",
    "print(y_stab)"
   ]
  }
 ],
 "metadata": {
  "jupytext": {
   "cell_metadata_filter": "-all",
   "main_language": "python",
   "notebook_metadata_filter": "-all"
  }
 },
 "nbformat": 4,
 "nbformat_minor": 5
}
