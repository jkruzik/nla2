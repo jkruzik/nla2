{
 "cells": [
  {
   "cell_type": "markdown",
   "id": "8cbbc7e3",
   "metadata": {
    "lines_to_next_cell": 0
   },
   "source": [
    "## Příklad výpočtu obsahu jehlovitých trojúhelníků.\n",
    "reference [W. Kahan \"Miscalculating Area and Angles of a Needle-like Triangle\" (2014)](https://people.eecs.berkeley.edu/~wkahan/Triangle.pdf)"
   ]
  },
  {
   "cell_type": "code",
   "execution_count": null,
   "id": "556b1d28",
   "metadata": {},
   "outputs": [],
   "source": [
    "import numpy as np\n",
    "import math\n",
    "import random\n",
    "import matplotlib.pyplot as plt\n",
    "from mpmath import mp, mpf, sqrt as mpsqrt"
   ]
  },
  {
   "cell_type": "markdown",
   "id": "0b2aa48c",
   "metadata": {
    "lines_to_next_cell": 0
   },
   "source": [
    "Heronův vzorec"
   ]
  },
  {
   "cell_type": "code",
   "execution_count": null,
   "id": "57212cbd",
   "metadata": {},
   "outputs": [],
   "source": [
    "def heron_area(a, b, c):\n",
    "    s = 0.5 * (a + b + c)\n",
    "    val = s * (s - a) * (s - b) * (s - c)\n",
    "    if val <= 0:\n",
    "        return 0.0\n",
    "    return math.sqrt(val)"
   ]
  },
  {
   "cell_type": "markdown",
   "id": "07294a57",
   "metadata": {
    "lines_to_next_cell": 0
   },
   "source": [
    "Stabilní vzorec, musí platit a >= b >= c"
   ]
  },
  {
   "cell_type": "code",
   "execution_count": null,
   "id": "687f6240",
   "metadata": {},
   "outputs": [],
   "source": [
    "def kahan_area(a, b, c):\n",
    "    # Seřaď straně sestupně: a >= b >= c\n",
    "    sides = sorted([a, b, c], reverse=True)\n",
    "    a, b, c = sides\n",
    "    if a >= b + c:\n",
    "        return 0.0\n",
    "    t1 = a + (b + c)\n",
    "    t2 = c - (a - b)\n",
    "    t3 = c + (a - b)\n",
    "    t4 = a + (b - c)\n",
    "    prod = t1 * t2 * t3 * t4\n",
    "    if prod <= 0:\n",
    "        return 0.0\n",
    "    return 0.25 * math.sqrt(prod)"
   ]
  },
  {
   "cell_type": "markdown",
   "id": "f43f2453",
   "metadata": {
    "lines_to_next_cell": 0
   },
   "source": [
    "Pomocí knihovny mpmath můžeme počítat s libovolnou přesností."
   ]
  },
  {
   "cell_type": "code",
   "execution_count": null,
   "id": "ebf2c2a9",
   "metadata": {},
   "outputs": [],
   "source": [
    "mp.dps = 80  # vysoká přesnost pro vzorový výpočet (desetiná místa)\n",
    "\n",
    "\n",
    "def mp_heron_area(a, b, c):\n",
    "    a, b, c = mp.mpf(a), mp.mpf(b), mp.mpf(c)\n",
    "    s = (a + b + c) / 2\n",
    "    val = s * (s - a) * (s - b) * (s - c)\n",
    "    if val <= 0:\n",
    "        return mp.mpf(\"0\")\n",
    "    return mpsqrt(val)"
   ]
  },
  {
   "cell_type": "markdown",
   "id": "9ff55e32",
   "metadata": {
    "lines_to_next_cell": 0
   },
   "source": [
    "TODO měňte hodnoty a zjistěte jak moc špatný výsledek můžete získat, následně se podívejte na ukázky v referenci"
   ]
  },
  {
   "cell_type": "code",
   "execution_count": null,
   "id": "4e3025d7",
   "metadata": {},
   "outputs": [],
   "source": [
    "a = 9.0\n",
    "b = 4.53\n",
    "c = b\n",
    "\n",
    "h = heron_area(a, b, c)\n",
    "k = kahan_area(a, b, c)\n",
    "m = mp_heron_area(a, b, c)\n",
    "\n",
    "print(\n",
    "    f\"Heronův obsah {h}, absolutní chyba: {float(h - m):.17e}, relativní chyba: {float((h - m) / m):.2e}\"\n",
    ")\n",
    "print(\n",
    "    f\"Kahanův obsah {k}, absolutní chyba: {float(k - m):.17e}, relativní chyba: {float((k - m) / m):.2e}\"\n",
    ")"
   ]
  }
 ],
 "metadata": {
  "jupytext": {
   "cell_metadata_filter": "-all",
   "main_language": "python",
   "notebook_metadata_filter": "-all"
  }
 },
 "nbformat": 4,
 "nbformat_minor": 5
}
