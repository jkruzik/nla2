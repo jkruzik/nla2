{
 "cells": [
  {
   "cell_type": "markdown",
   "id": "cdf79280",
   "metadata": {
    "lines_to_next_cell": 0
   },
   "source": [
    "## Předpodmínění\n",
    "Vypočtěte [Wilkinsonův mnohočlen](https://en.wikipedia.org/wiki/Wilkinson's_polynomial) v jeho kořenech."
   ]
  },
  {
   "cell_type": "code",
   "execution_count": null,
   "id": "244864be",
   "metadata": {},
   "outputs": [],
   "source": [
    "import numpy as np\n",
    "from sympy import Symbol\n",
    "from sympy.polys.polytools import poly_from_expr\n",
    "\n",
    "x = Symbol(\"x\")\n",
    "W = 1\n",
    "for i in range(1, 21):\n",
    "    W = W * (x - i)\n",
    "\n",
    "P, d = poly_from_expr(W.expand())\n",
    "p = P.all_coeffs()\n",
    "x = np.arange(1, 21)\n",
    "print(\"Toto jsou známé kořeny\\n\", x)\n",
    "print(\"Mnohočlen vypočten v kořenech (int) \\n{}\".format(np.polyval(p, x)))"
   ]
  },
  {
   "cell_type": "markdown",
   "id": "60c13f4d",
   "metadata": {
    "lines_to_next_cell": 0
   },
   "source": [
    "Co kdybychom počítali s doubly (64-bit)?"
   ]
  },
  {
   "cell_type": "code",
   "execution_count": null,
   "id": "e44c3040",
   "metadata": {},
   "outputs": [],
   "source": [
    "x = np.arange(1, 21, dtype=np.float64)\n",
    "print(\"\\nMnohočlen v kořenech (double) \\n{}\".format(np.polyval(p, x)))"
   ]
  },
  {
   "cell_type": "markdown",
   "id": "b3d5cf8e",
   "metadata": {
    "lines_to_next_cell": 0
   },
   "source": [
    "Výpočet se provede v doublech, ale..."
   ]
  },
  {
   "cell_type": "code",
   "execution_count": null,
   "id": "ebda98f5",
   "metadata": {},
   "outputs": [],
   "source": [
    "print(\"Coefficients of the polynomial:\")\n",
    "print(\"{:<30s}{:<30s}{}\".format(\"Integer\", \"Float\", \"delta\"))\n",
    "for pj in p:\n",
    "    print(\"{:<30}{:<30f}{}\".format(int(pj), float(pj), pj - int(float(pj))))"
   ]
  },
  {
   "cell_type": "markdown",
   "id": "33f9cb09",
   "metadata": {},
   "source": [
    "poměrně malé změny koefficientů zapříčiní, že výsledek nabyde velkých rozměrů, protože je mnohočlen špatně podmíněný."
   ]
  }
 ],
 "metadata": {
  "jupytext": {
   "cell_metadata_filter": "-all",
   "main_language": "python",
   "notebook_metadata_filter": "-all"
  }
 },
 "nbformat": 4,
 "nbformat_minor": 5
}
