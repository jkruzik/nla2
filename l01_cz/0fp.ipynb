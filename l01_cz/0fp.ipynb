{
 "cells": [
  {
   "cell_type": "markdown",
   "id": "3dd036fb",
   "metadata": {
    "lines_to_next_cell": 0
   },
   "source": [
    "## Zaokrouhlování"
   ]
  },
  {
   "cell_type": "code",
   "execution_count": null,
   "id": "63229e06",
   "metadata": {},
   "outputs": [],
   "source": [
    "def eprint(expr, mid=\" \"):\n",
    "    print(expr, mid, eval(expr))\n",
    "\n",
    "\n",
    "a = 0.1 + 0.2\n",
    "b = 0.3\n",
    "eprint(\"a == b \")"
   ]
  },
  {
   "cell_type": "markdown",
   "id": "45e5748a",
   "metadata": {
    "lines_to_next_cell": 0
   },
   "source": [
    "## Jak porovnat čísla s plovoucí řadovou čárkou?"
   ]
  },
  {
   "cell_type": "code",
   "execution_count": null,
   "id": "421a5e8f",
   "metadata": {},
   "outputs": [],
   "source": [
    "eps = 1e-15  # viz také https://en.wikipedia.org/wiki/Machine_epsilon\n",
    "print(abs(a - b))\n",
    "print(abs(a - b) <= eps)"
   ]
  },
  {
   "cell_type": "markdown",
   "id": "5383096c",
   "metadata": {
    "lines_to_next_cell": 0
   },
   "source": [
    "absolutní odchylka, nemusí fungovat vždy"
   ]
  },
  {
   "cell_type": "code",
   "execution_count": null,
   "id": "b5bcb7a0",
   "metadata": {
    "lines_to_next_cell": 0
   },
   "outputs": [],
   "source": [
    "import math\n",
    "\n",
    "a = 1e300\n",
    "b = math.nextafter(a, math.inf)  # vrací nejbližší reprezovatelné číslo\n",
    "print(a, b)\n",
    "print(\"rozdíl: \", abs(a - b))\n",
    "print(\"blízko sebe: \", abs(a - b) <= eps)"
   ]
  },
  {
   "cell_type": "markdown",
   "id": "c3a077ef",
   "metadata": {
    "lines_to_next_cell": 0
   },
   "source": [
    "relativní odchylka"
   ]
  },
  {
   "cell_type": "code",
   "execution_count": null,
   "id": "e4590ab2",
   "metadata": {},
   "outputs": [],
   "source": [
    "print(\"blízko sebe (relativně): \", abs(a - b) / min(a, b) < eps)"
   ]
  },
  {
   "cell_type": "markdown",
   "id": "4736d7c7",
   "metadata": {},
   "source": [
    "Co kdyby b = 0?\n",
    "Relativní odchylka nemá smysl (i kdybychom vyřešili dělení nulou).\n",
    "Čísla, která považujeme blízkov v rámci absolutní ochylky závisí na kontextu, odkud jsme čísla získali.\n",
    "Viz [boost](https://www.boost.org/doc/libs/latest/libs/math/doc/html/math_toolkit/float_comparison.html) a [boost2](https://www.boost.org/doc/libs/latest/libs/test/doc/html/boost_test/testing_tools/extended_comparison/floating_point/floating_points_comparison_theory.html)"
   ]
  },
  {
   "cell_type": "markdown",
   "id": "625fbd8a",
   "metadata": {
    "lines_to_next_cell": 0
   },
   "source": [
    "## Asociativity"
   ]
  },
  {
   "cell_type": "code",
   "execution_count": null,
   "id": "91d2a3b8",
   "metadata": {},
   "outputs": [],
   "source": [
    "eprint(\"(1e16 - 1e16) + 1.0 == 1.0\")\n",
    "eprint(\"1e16 + (-1e16 + 1.0) == 1.0\")\n",
    "eprint(\"(1e300 * 1e300) * 1e-300\", \" = \")\n",
    "eprint(\"1e300 * (1e300 * 1e-300)\", \" = \")"
   ]
  },
  {
   "cell_type": "markdown",
   "id": "0c2a6cf4",
   "metadata": {},
   "source": [
    "Viz také [Floating-Point Arithmetic: Issues and Limitations](https://docs.python.org/3/tutorial/floatingpoint.html), případně [Interval arithmetic](https://en.wikipedia.org/wiki/Interval_arithmetic)"
   ]
  }
 ],
 "metadata": {
  "jupytext": {
   "cell_metadata_filter": "-all",
   "main_language": "python",
   "notebook_metadata_filter": "-all"
  }
 },
 "nbformat": 4,
 "nbformat_minor": 5
}
