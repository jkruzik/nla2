{
 "cells": [
  {
   "cell_type": "markdown",
   "id": "73b67fc8",
   "metadata": {
    "lines_to_next_cell": 0
   },
   "source": [
    "## Hromadění chyby\n",
    "Použijeme jednoduchou [Eulerovu metodu](https://en.m.wikipedia.org/wiki/Euler_method) pro vyřešení ODR"
   ]
  },
  {
   "cell_type": "code",
   "execution_count": null,
   "id": "bf89d432",
   "metadata": {},
   "outputs": [],
   "source": [
    "import numpy as np\n",
    "import matplotlib.pyplot as plt\n",
    "\n",
    "\n",
    "def f(y, t):\n",
    "    \"\"\"funkce ODR: y' = -100y + 100t + 101\"\"\"\n",
    "    return -100 * y + 100 * t + 101\n",
    "\n",
    "\n",
    "def euler(y0, h, n_steps):\n",
    "    \"\"\"Eulerova metoda pro řešení y' = f(y,t)\"\"\"\n",
    "    y = np.zeros(n_steps + 1)\n",
    "    t = np.zeros(n_steps + 1)\n",
    "\n",
    "    # počáteční podmínky\n",
    "    y[0] = y0\n",
    "    t[0] = 0.0\n",
    "\n",
    "    for k in range(n_steps):\n",
    "        y[k + 1] = y[k] + h * f(y[k], t[k])\n",
    "        t[k + 1] = (k + 1) * h\n",
    "\n",
    "    return t, y"
   ]
  },
  {
   "cell_type": "markdown",
   "id": "205d8cd6",
   "metadata": {
    "lines_to_next_cell": 0
   },
   "source": [
    "Jak by mělo vypadat prvních pár iterací:\n",
    "$$\n",
    "\\begin{align*}\n",
    "   y_0 &= 1\\\\\n",
    "   y_1 &= 1 +   0.1(-100 \\cdot 1  + 100 \\cdot 0.0 + 101) = 1.1\\\\\n",
    "   y_2 &= 1.1 + 0.1(-100 \\cdot 1.1  + 100 \\cdot 0.1 + 101) = 1.2\\\\\n",
    "   y_3 &= 1.1 + 0.1(-100 \\cdot 1.2 + 100 \\cdot 0.2 + 101) = 1.3\\\\\n",
    "\\end{align*}\n",
    "$$\n",
    "Je zřejmé, jak je možné zjednodušit další iteraci."
   ]
  },
  {
   "cell_type": "code",
   "execution_count": null,
   "id": "7ca11340",
   "metadata": {},
   "outputs": [],
   "source": [
    "def euler_stab(y0, h, n_steps):\n",
    "    \"\"\"Eulerova metoda pro řešení y' = f(y,t)\"\"\"\n",
    "    y = np.zeros(n_steps + 1)\n",
    "    t = np.zeros(n_steps + 1)\n",
    "\n",
    "    # Počáteční podmínky\n",
    "    y[0] = y0\n",
    "    t[0] = 0.0\n",
    "\n",
    "    for k in range(n_steps):\n",
    "        y[k + 1] = 1 + h * (k + 1)\n",
    "        t[k + 1] = (k + 1) * h\n",
    "\n",
    "    return t, y"
   ]
  },
  {
   "cell_type": "code",
   "execution_count": null,
   "id": "ba203441",
   "metadata": {},
   "outputs": [],
   "source": [
    "# Parametry\n",
    "y0 = 1  # počáteční podmínka\n",
    "h = 0.1  # velikost kroku\n",
    "n_steps = 20  # počet iterací\n",
    "\n",
    "t, y_euler = euler(y0, h, n_steps)\n",
    "_, y_euler_stab = euler_stab(y0, h, n_steps)\n",
    "print(y_euler)\n",
    "print(y_euler_stab)"
   ]
  }
 ],
 "metadata": {
  "jupytext": {
   "cell_metadata_filter": "-all",
   "main_language": "python",
   "notebook_metadata_filter": "-all"
  }
 },
 "nbformat": 4,
 "nbformat_minor": 5
}
