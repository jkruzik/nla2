{
 "cells": [
  {
   "cell_type": "markdown",
   "id": "d0f7298a",
   "metadata": {
    "lines_to_next_cell": 0
   },
   "source": [
    "## Katastrofické vyrušení v kvadratické rovnici"
   ]
  },
  {
   "cell_type": "code",
   "execution_count": null,
   "id": "8203584e",
   "metadata": {},
   "outputs": [],
   "source": [
    "import math\n",
    "\n",
    "\n",
    "def quadratic_standard(a, b, c):\n",
    "    \"\"\"Vyřeš kvadratickou rovnici pomocí běžné kvadratické rovnice.\"\"\"\n",
    "    disc = b * b - 4 * a * c\n",
    "    sqrt_disc = math.sqrt(disc)\n",
    "    x1 = (-b + sqrt_disc) / (2 * a)\n",
    "    x2 = (-b - sqrt_disc) / (2 * a)\n",
    "    return x1, x2"
   ]
  },
  {
   "cell_type": "markdown",
   "id": "00cbc883",
   "metadata": {
    "lines_to_next_cell": 0
   },
   "source": [
    "Pokud $b^2 \\gg ac$, tak $\\sqrt{b^2 - 4ac} \\approx b$, což vede ke Katastrofickému\n",
    "vyrušení při výpočtu jednoho z kořenů.\n",
    "Tomu se můžeme vyhnout rozšířením zlomku sdruženou verzí čitatele, abychom získali součet čtverců\n",
    "($(x+y)(x-y) = x^2 - y^2$)."
   ]
  },
  {
   "cell_type": "code",
   "execution_count": null,
   "id": "3dcb8696",
   "metadata": {},
   "outputs": [],
   "source": [
    "def quadratic_stable(a, b, c):\n",
    "    \"\"\"Vyřeš kvadratickou rovnici pomocí numericky stabilní metody.\"\"\"\n",
    "    disc = b * b - 4 * a * c\n",
    "    sqrt_disc = math.sqrt(disc)\n",
    "\n",
    "    # Vyber jmenovatel, abychom se vyhnuli vyrušení\n",
    "    if b > 0:\n",
    "        x1 = (2 * c) / (-b - sqrt_disc)\n",
    "        x2 = (-b - sqrt_disc) / (2 * a)\n",
    "    else:\n",
    "        x1 = (-b + sqrt_disc) / (2 * a)\n",
    "        x2 = (2 * c) / (-b + sqrt_disc)\n",
    "\n",
    "    return x1, x2"
   ]
  },
  {
   "cell_type": "markdown",
   "id": "59afb894",
   "metadata": {
    "lines_to_next_cell": 0
   },
   "source": [
    "Příklad kdy nastane katastrofické vyrušení: $b^2 \\gg a*c$"
   ]
  },
  {
   "cell_type": "code",
   "execution_count": null,
   "id": "c53028d8",
   "metadata": {},
   "outputs": [],
   "source": [
    "a, b, c = 0.0001, 100000, 0.002\n",
    "\n",
    "roots_standard = quadratic_standard(a, b, c)\n",
    "roots_stable = quadratic_stable(a, b, c)\n",
    "\n",
    "print(\"Klasická kvadratická rovnice:\")\n",
    "print(\"x1 =\", roots_standard[0])\n",
    "print(\"x2 =\", roots_standard[1])\n",
    "\n",
    "print(\"\\nNumericky stabilní kvadratická rovnice:\")\n",
    "print(\"x1 =\", roots_stable[0])\n",
    "print(\"x2 =\", roots_stable[1])"
   ]
  },
  {
   "cell_type": "markdown",
   "id": "7d2ffab0",
   "metadata": {
    "lines_to_next_cell": 0
   },
   "source": [
    "Kontrola přesnosti dosazením kořenů zpět do rovnice.\n",
    "Použijeme [Hornerovo schéma](https://en.wikipedia.org/wiki/Polynomial_evaluation) pro výpočet mnohočlenu."
   ]
  },
  {
   "cell_type": "code",
   "execution_count": null,
   "id": "1021326d",
   "metadata": {},
   "outputs": [],
   "source": [
    "print(\"\\nZbytky (měli by být blízké 0):\")\n",
    "for i, r in enumerate(roots_standard, 1):\n",
    "    z = r * (a * r + b) + c\n",
    "    print(f\"Běžný kořen {i}: {z:.2e}\")\n",
    "for i, r in enumerate(roots_stable, 1):\n",
    "    z = r * (a * r + b) + c\n",
    "    print(f\"Stabilní kořen {i}: {z:.2e}\")\n",
    "\n",
    "print(\"\\nRelativní zbytky (měli by být blízké 0):\")\n",
    "for i, r in enumerate(roots_standard, 1):\n",
    "    z = r * (a * r + b) + c\n",
    "    print(\n",
    "        f\"Běžný kořen {i}: {abs(z) / (abs(a) * r * r + abs(b) * abs(r) + abs(c)):.2e}\"\n",
    "    )\n",
    "for i, r in enumerate(roots_stable, 1):\n",
    "    z = r * (a * r + b) + c\n",
    "    print(\n",
    "        f\"Stabilní kořen {i}: {abs(z) / (abs(a) * r * r + abs(b) * abs(r) + abs(c)):.2e}\"\n",
    "    )"
   ]
  },
  {
   "cell_type": "markdown",
   "id": "2d1fe907",
   "metadata": {},
   "source": [
    "Všimněte si, že pokud $b^2 \\approx 4ac$, nastane vyrušení, kterému se můžeme vyhnout pouze výpočtem s větší přesností."
   ]
  }
 ],
 "metadata": {
  "jupytext": {
   "cell_metadata_filter": "-all",
   "main_language": "python",
   "notebook_metadata_filter": "-all"
  }
 },
 "nbformat": 4,
 "nbformat_minor": 5
}
