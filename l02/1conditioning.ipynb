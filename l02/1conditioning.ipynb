{
 "cells": [
  {
   "cell_type": "markdown",
   "id": "eca61f56",
   "metadata": {
    "lines_to_next_cell": 0
   },
   "source": [
    "## Solving ill-conditioned systems"
   ]
  },
  {
   "cell_type": "code",
   "execution_count": 1,
   "id": "4240df76",
   "metadata": {
    "execution": {
     "iopub.execute_input": "2025-09-24T12:01:27.646824Z",
     "iopub.status.busy": "2025-09-24T12:01:27.646152Z",
     "iopub.status.idle": "2025-09-24T12:01:28.473473Z",
     "shell.execute_reply": "2025-09-24T12:01:28.472578Z"
    }
   },
   "outputs": [],
   "source": [
    "import numpy as np\n",
    "import matplotlib.pyplot as plt\n",
    "from scipy.linalg import hilbert, solve\n",
    "\n",
    "def gaussian_elimination(A, b):\n",
    "    A = A.astype(float)\n",
    "    b = b.astype(float)\n",
    "    n = len(b)\n",
    "\n",
    "    for k in range(n-1):\n",
    "        if A[k, k] == 0:\n",
    "            raise ValueError(\"Zero pivot encountered!\")\n",
    "        for i in range(k+1, n):\n",
    "            factor = A[i, k] / A[k, k]\n",
    "            A[i, k:] = A[i, k:] - factor * A[k, k:]\n",
    "            b[i] = b[i] - factor * b[k]\n",
    "\n",
    "    # Back substitution\n",
    "    x = np.zeros(n)\n",
    "    for i in reversed(range(n)):\n",
    "        x[i] = (b[i] - np.dot(A[i, i+1:], x[i+1:])) / A[i, i]\n",
    "\n",
    "    return x\n",
    "\n",
    "\n",
    "def relative_error(x_true, x_computed):\n",
    "    return np.linalg.norm(x_true - x_computed) / np.linalg.norm(x_true)\n",
    "\n",
    "def backward_error(A, b, x):\n",
    "    return np.linalg.norm(b - A @ x)/(np.linalg.norm(b) + np.linalg.norm(A,2)*np.linalg.norm(x))"
   ]
  },
  {
   "cell_type": "code",
   "execution_count": 2,
   "id": "b577e90f",
   "metadata": {
    "execution": {
     "iopub.execute_input": "2025-09-24T12:01:28.476887Z",
     "iopub.status.busy": "2025-09-24T12:01:28.476563Z",
     "iopub.status.idle": "2025-09-24T12:01:28.503148Z",
     "shell.execute_reply": "2025-09-24T12:01:28.502347Z"
    }
   },
   "outputs": [
    {
     "name": "stdout",
     "output_type": "stream",
     "text": [
      "3x3 Hilbert matrix with condition number: 5.24e+02\n",
      "||r_exact|| =  0.00e+00\n",
      "||r|| =  2.22e-16\n",
      "||r_naive|| =  2.22e-16\n",
      "Relative forward error: 3.37e-15\n",
      "Relative forward error (naive): 1.02e-14\n",
      "Relative backward error: 4.72e-17\n",
      "Relative backward error (naive): 4.72e-17\n",
      "-----\n",
      "5x5 Hilbert matrix with condition number: 4.77e+05\n",
      "||r_exact|| =  0.00e+00\n",
      "||r|| =  2.48e-16\n",
      "||r_naive|| =  2.22e-16\n",
      "Relative forward error: 3.53e-12\n",
      "Relative forward error (naive): 1.55e-12\n",
      "Relative backward error: 3.74e-17\n",
      "Relative backward error (naive): 3.34e-17\n",
      "-----\n",
      "8x8 Hilbert matrix with condition number: 1.53e+10\n",
      "||r_exact|| =  0.00e+00\n",
      "||r|| =  2.48e-16\n",
      "||r_naive|| =  4.00e-16\n",
      "Relative forward error: 6.58e-08\n",
      "Relative forward error (naive): 1.50e-07\n",
      "Relative backward error: 2.78e-17\n",
      "Relative backward error (naive): 4.48e-17\n",
      "-----\n",
      "12x12 Hilbert matrix with condition number: 1.64e+16\n",
      "||r_exact|| =  0.00e+00\n",
      "||r|| =  8.08e-16\n",
      "||r_naive|| =  7.20e-16\n",
      "Relative forward error: 2.22e-01\n",
      "Relative forward error (naive): 1.98e-01\n",
      "Relative backward error: 6.98e-17\n",
      "Relative backward error (naive): 6.23e-17\n",
      "-----\n"
     ]
    },
    {
     "name": "stderr",
     "output_type": "stream",
     "text": [
      "/usr/lib/python3.13/site-packages/scipy/_lib/_util.py:1233: LinAlgWarning: Ill-conditioned matrix (rcond=2.4694e-17): result may not be accurate.\n",
      "  return f(*arrays, *other_args, **kwargs)\n"
     ]
    }
   ],
   "source": [
    "sizes = [3, 5, 8, 12]\n",
    "for n in sizes:\n",
    "    # Test on Hilbert matrix\n",
    "    H = hilbert(n)\n",
    "    x_exact = np.ones(n)\n",
    "    b = H @ x_exact\n",
    "\n",
    "    x_naive  = gaussian_elimination(H.copy(), b.copy())\n",
    "    x = solve(H, b) # direct solver with pivoting\n",
    "\n",
    "    print(f\"{n}x{n} Hilbert matrix with condition number: {np.linalg.cond(H):.2e}\")\n",
    "    print(f\"||r_exact|| =  {np.linalg.norm(H @ x_exact -b):.2e}\")\n",
    "    print(f\"||r|| =  {np.linalg.norm(H @ x -b):.2e}\")\n",
    "    print(f\"||r_naive|| =  {np.linalg.norm(H @ x_naive -b):.2e}\")\n",
    "    print(f\"Relative forward error: {relative_error(x_exact,x):.2e}\")\n",
    "    print(f\"Relative forward error (naive): {relative_error(x_exact, x_naive):.2e}\")\n",
    "    print(f\"Relative backward error: {backward_error(H, b, x):.2e}\")\n",
    "    print(f\"Relative backward error (naive): {backward_error(H, b, x_naive):.2e}\")\n",
    "    print(\"-----\")"
   ]
  },
  {
   "cell_type": "markdown",
   "id": "6e19bc42",
   "metadata": {},
   "source": [
    "[Hilbert matrices](https://en.wikipedia.org/wiki/Hilbert_matrix) are ill-conditioned.\n",
    "Observe the decoupling of the residual and the relative forward error.\n",
    "Both np.linalg.solve(), i.e., LU with pivoting, and Gaussian elimination without pivoting seem to be backward stable. However, that is not the case; see the next example."
   ]
  }
 ],
 "metadata": {
  "jupytext": {
   "cell_metadata_filter": "-all",
   "main_language": "python",
   "notebook_metadata_filter": "-all"
  },
  "kernelspec": {
   "display_name": "Python 3 (ipykernel)",
   "language": "python",
   "name": "python3"
  },
  "language_info": {
   "codemirror_mode": {
    "name": "ipython",
    "version": 3
   },
   "file_extension": ".py",
   "mimetype": "text/x-python",
   "name": "python",
   "nbconvert_exporter": "python",
   "pygments_lexer": "ipython3",
   "version": "3.13.7"
  }
 },
 "nbformat": 4,
 "nbformat_minor": 5
}
