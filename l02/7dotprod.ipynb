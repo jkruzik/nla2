{
 "cells": [
  {
   "cell_type": "markdown",
   "id": "9d24a132",
   "metadata": {
    "lines_to_next_cell": 0
   },
   "source": [
    "## Dot product\n",
    "This is the standard way to compute a dot product in parallel"
   ]
  },
  {
   "cell_type": "code",
   "execution_count": 1,
   "id": "1ec990cb-6a69-44a1-8546-ac20a2c5cc13",
   "metadata": {},
   "outputs": [
    {
     "name": "stdout",
     "output_type": "stream",
     "text": [
      "Starting 4 engines with <class 'ipyparallel.cluster.launcher.MPIEngineSetLauncher'>\n"
     ]
    },
    {
     "data": {
      "application/vnd.jupyter.widget-view+json": {
       "model_id": "dc2e1eb0a7134d96a324b6a80d63a927",
       "version_major": 2,
       "version_minor": 0
      },
      "text/plain": [
       "  0%|          | 0/4 [00:00<?, ?engine/s]"
      ]
     },
     "metadata": {},
     "output_type": "display_data"
    }
   ],
   "source": [
    "n = 4 # number of processes\n",
    "from ipyparallel import Cluster\n",
    "cluster = await Cluster(engines=\"mpi\").start_and_connect(n=n, activate=True)"
   ]
  },
  {
   "cell_type": "code",
   "execution_count": 2,
   "id": "f30fce9e",
   "metadata": {
    "lines_to_next_cell": 2
   },
   "outputs": [
    {
     "data": {
      "text/plain": [
       "[stdout:1] Rank 1: local_dot = 2000.0, global_dot = 8000.0\n"
      ]
     },
     "metadata": {},
     "output_type": "display_data"
    },
    {
     "data": {
      "text/plain": [
       "[stdout:0] Rank 0: local_dot = 2000.0, global_dot = 8000.0\n"
      ]
     },
     "metadata": {},
     "output_type": "display_data"
    },
    {
     "data": {
      "text/plain": [
       "[stdout:2] Rank 2: local_dot = 2000.0, global_dot = 8000.0\n"
      ]
     },
     "metadata": {},
     "output_type": "display_data"
    },
    {
     "data": {
      "text/plain": [
       "[stdout:3] Rank 3: local_dot = 2000.0, global_dot = 8000.0\n"
      ]
     },
     "metadata": {},
     "output_type": "display_data"
    }
   ],
   "source": [
    "%%px\n",
    "from mpi4py import MPI\n",
    "import numpy as np\n",
    "\n",
    "comm = MPI.COMM_WORLD\n",
    "rank = comm.Get_rank()\n",
    "size = comm.Get_size()\n",
    "\n",
    "n = 1000\n",
    "\n",
    "n_local = n // size\n",
    "\n",
    "x_local = 2*np.ones(n_local, dtype='d')\n",
    "y_local = 4*np.ones(n_local, dtype='d')\n",
    "\n",
    "local_dot = np.dot(x_local, y_local)\n",
    "global_dot = comm.allreduce(local_dot, op=MPI.SUM)\n",
    "\n",
    "print(f\"Rank {rank}: local_dot = {local_dot}, global_dot = {global_dot}\")"
   ]
  }
 ],
 "metadata": {
  "jupytext": {
   "cell_metadata_filter": "-all",
   "main_language": "python",
   "notebook_metadata_filter": "-all"
  },
  "kernelspec": {
   "display_name": "Python 3 (ipykernel)",
   "language": "python",
   "name": "python3"
  },
  "language_info": {
   "codemirror_mode": {
    "name": "ipython",
    "version": 3
   },
   "file_extension": ".py",
   "mimetype": "text/x-python",
   "name": "python",
   "nbconvert_exporter": "python",
   "pygments_lexer": "ipython3",
   "version": "3.13.7"
  }
 },
 "nbformat": 4,
 "nbformat_minor": 5
}
