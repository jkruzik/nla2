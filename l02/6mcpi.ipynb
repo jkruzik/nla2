{
 "cells": [
  {
   "cell_type": "markdown",
   "id": "53e25951",
   "metadata": {
    "lines_to_next_cell": 0
   },
   "source": [
    "## Estimating Pi using Monte Carlo method\n",
    "https://en.wikipedia.org/wiki/Monte_Carlo_method#Overview"
   ]
  },
  {
   "cell_type": "code",
   "execution_count": 1,
   "id": "44e1b5d7",
   "metadata": {
    "lines_to_next_cell": 2
   },
   "outputs": [
    {
     "name": "stdout",
     "output_type": "stream",
     "text": [
      "Estimated π = 3.142440 using 1000000 tosses and 1 processes\n"
     ]
    }
   ],
   "source": [
    "from mpi4py import MPI\n",
    "import random\n",
    "\n",
    "comm = MPI.COMM_WORLD\n",
    "rank = comm.Get_rank()\n",
    "size = comm.Get_size()\n",
    "\n",
    "# Set number of tosses\n",
    "tosses = 1000000\n",
    "\n",
    "# Divide work\n",
    "local_tosses = tosses // size\n",
    "local_count = 0\n",
    "\n",
    "random.seed(rank)  # unique seed per rank\n",
    "\n",
    "for _ in range(local_tosses):\n",
    "    x, y = random.random(), random.random()\n",
    "    if x*x + y*y <= 1.0:\n",
    "        local_count += 1\n",
    "\n",
    "# Reduce results\n",
    "global_count = comm.reduce(local_count, op=MPI.SUM, root=0)\n",
    "\n",
    "if rank == 0:\n",
    "    pi_estimate = (4.0 * global_count) / tosses\n",
    "    print(f\"Estimated π = {pi_estimate:.6f} using {tosses} tosses and {size} processes\")"
   ]
  },
  {
   "cell_type": "markdown",
   "id": "85971098-430d-4fe3-bb35-62a2e14ac8a9",
   "metadata": {},
   "source": [
    "Running 6mpic.c with 1e9 tosses\n",
    "| Cores | Time [s] |\n",
    "| --- | --- |\n",
    "| 1 | 38.704 |\n",
    "| 2 | 19.921 |\n",
    "| 4 | 10.723 |  "
   ]
  }
 ],
 "metadata": {
  "jupytext": {
   "cell_metadata_filter": "-all",
   "main_language": "python",
   "notebook_metadata_filter": "-all"
  },
  "kernelspec": {
   "display_name": "Python 3 (ipykernel)",
   "language": "python",
   "name": "python3"
  },
  "language_info": {
   "codemirror_mode": {
    "name": "ipython",
    "version": 3
   },
   "file_extension": ".py",
   "mimetype": "text/x-python",
   "name": "python",
   "nbconvert_exporter": "python",
   "pygments_lexer": "ipython3",
   "version": "3.13.7"
  }
 },
 "nbformat": 4,
 "nbformat_minor": 5
}
