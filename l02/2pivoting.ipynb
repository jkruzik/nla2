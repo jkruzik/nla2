{
 "cells": [
  {
   "cell_type": "markdown",
   "id": "1e2f0459",
   "metadata": {
    "lines_to_next_cell": 0
   },
   "source": [
    "## Gaussian elimination needs pivoting"
   ]
  },
  {
   "cell_type": "code",
   "execution_count": 1,
   "id": "18498acf",
   "metadata": {
    "execution": {
     "iopub.execute_input": "2025-09-24T12:02:45.116121Z",
     "iopub.status.busy": "2025-09-24T12:02:45.115760Z",
     "iopub.status.idle": "2025-09-24T12:02:45.665181Z",
     "shell.execute_reply": "2025-09-24T12:02:45.664454Z"
    }
   },
   "outputs": [],
   "source": [
    "import numpy as np\n",
    "import matplotlib.pyplot as plt\n",
    "from scipy.linalg import hilbert, solve\n",
    "\n",
    "def gaussian_elimination(A, b):\n",
    "    A = A.astype(float)\n",
    "    b = b.astype(float)\n",
    "    n = len(b)\n",
    "\n",
    "    for k in range(n-1):\n",
    "        if A[k, k] == 0:\n",
    "            raise ValueError(\"Zero pivot encountered!\")\n",
    "        for i in range(k+1, n):\n",
    "            factor = A[i, k] / A[k, k]\n",
    "            A[i, k:] = A[i, k:] - factor * A[k, k:]\n",
    "            b[i] = b[i] - factor * b[k]\n",
    "\n",
    "    # Back substitution\n",
    "    x = np.zeros(n)\n",
    "    for i in reversed(range(n)):\n",
    "        x[i] = (b[i] - np.dot(A[i, i+1:], x[i+1:])) / A[i, i]\n",
    "\n",
    "    return x\n",
    "\n",
    "\n",
    "def relative_error(x_true, x_computed):\n",
    "    return np.linalg.norm(x_true - x_computed) / np.linalg.norm(x_true)\n",
    "\n",
    "def backward_error(A, b, x):\n",
    "    return np.linalg.norm(b - A @ x)/(np.linalg.norm(b) + np.linalg.norm(A,2)*np.linalg.norm(x))"
   ]
  },
  {
   "cell_type": "code",
   "execution_count": 2,
   "id": "25bd6a73",
   "metadata": {
    "execution": {
     "iopub.execute_input": "2025-09-24T12:02:45.668611Z",
     "iopub.status.busy": "2025-09-24T12:02:45.668339Z",
     "iopub.status.idle": "2025-09-24T12:02:45.676123Z",
     "shell.execute_reply": "2025-09-24T12:02:45.675460Z"
    }
   },
   "outputs": [
    {
     "name": "stdout",
     "output_type": "stream",
     "text": [
      "Condition number: 2.62e+00\n",
      "||r_exact|| =  0.00e+00\n",
      "||r|| =  1.11e-16\n",
      "||r_naive|| =  1.22e+00\n",
      "Relative forward error: 1.76e-16\n",
      "Relative forward error (naive): 8.63e-01\n",
      "Relative backward error: 2.45e-17\n",
      "Relative backward error (naive): 1.98e-01\n"
     ]
    }
   ],
   "source": [
    "eps = 1e-16\n",
    "H = np.array([[eps, 1.], [1., 1.]])\n",
    "x_exact = np.array([2 - (1-2*eps)/(1-eps), (1-2*eps)/(1-eps)]) # for b = [1 2]\n",
    "b = H @ x_exact\n",
    "\n",
    "x_naive  = gaussian_elimination(H.copy(), b.copy())\n",
    "x = solve(H, b) # direct solver with pivoting\n",
    "\n",
    "print(f\"Condition number: {np.linalg.cond(H):.2e}\")\n",
    "print(f\"||r_exact|| =  {np.linalg.norm(H @ x_exact -b):.2e}\")\n",
    "print(f\"||r|| =  {np.linalg.norm(H @ x -b):.2e}\")\n",
    "print(f\"||r_naive|| =  {np.linalg.norm(H @ x_naive -b):.2e}\")\n",
    "print(f\"Relative forward error: {relative_error(x_exact,x):.2e}\")\n",
    "print(f\"Relative forward error (naive): {relative_error(x_exact, x_naive):.2e}\")\n",
    "print(f\"Relative backward error: {backward_error(H, b, x):.2e}\")\n",
    "print(f\"Relative backward error (naive): {backward_error(H, b, x_naive):.2e}\")"
   ]
  },
  {
   "cell_type": "markdown",
   "id": "b2301fb4",
   "metadata": {},
   "source": [
    "Gaussian elimination is backward stable with pivoting (np.linalg.solve()), but not without it."
   ]
  }
 ],
 "metadata": {
  "jupytext": {
   "cell_metadata_filter": "-all",
   "main_language": "python",
   "notebook_metadata_filter": "-all"
  },
  "kernelspec": {
   "display_name": "Python 3 (ipykernel)",
   "language": "python",
   "name": "python3"
  },
  "language_info": {
   "codemirror_mode": {
    "name": "ipython",
    "version": 3
   },
   "file_extension": ".py",
   "mimetype": "text/x-python",
   "name": "python",
   "nbconvert_exporter": "python",
   "pygments_lexer": "ipython3",
   "version": "3.13.7"
  }
 },
 "nbformat": 4,
 "nbformat_minor": 5
}
