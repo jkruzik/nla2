{
 "cells": [
  {
   "cell_type": "markdown",
   "id": "03b6f307-2ea3-4823-a438-a1a8fde919bb",
   "metadata": {
    "lines_to_next_cell": 0
   },
   "source": [
    "##  MPI ping-pong\n",
    "Normally, we would just run `mpirun -n 2 python 3pingpong.py`. In Jupyter notebooks, we need to start the [iparallel cluster](https://ipyparallel.readthedocs.io/en/latest/examples/Cluster%20API.html)."
   ]
  },
  {
   "cell_type": "code",
   "execution_count": 1,
   "id": "1fc60459-575d-4021-a5fd-e0e493066ead",
   "metadata": {},
   "outputs": [
    {
     "name": "stdout",
     "output_type": "stream",
     "text": [
      "Starting 2 engines with <class 'ipyparallel.cluster.launcher.MPIEngineSetLauncher'>\n"
     ]
    },
    {
     "data": {
      "application/vnd.jupyter.widget-view+json": {
       "model_id": "c7e1057c685a40deb3bcc312e1dc6ece",
       "version_major": 2,
       "version_minor": 0
      },
      "text/plain": [
       "  0%|          | 0/2 [00:00<?, ?engine/s]"
      ]
     },
     "metadata": {},
     "output_type": "display_data"
    }
   ],
   "source": [
    "n = 2 # number of processes\n",
    "import os\n",
    "os.environ[\"OMPI_MCA_rmaps_base_oversubscribe\"] = \"1\" # OpenMPI flag to oversubscribe in case we have less cpus than n\n",
    "from ipyparallel import Cluster\n",
    "cluster = await Cluster(engines=\"mpi\").start_and_connect(n=n, activate=True)"
   ]
  },
  {
   "cell_type": "markdown",
   "id": "4a6c9cd9-fea0-4494-b976-9574539865dd",
   "metadata": {},
   "source": [
    "The cells need to be prefixed by `%%px`"
   ]
  },
  {
   "cell_type": "code",
   "execution_count": 2,
   "id": "54dcac33",
   "metadata": {},
   "outputs": [
    {
     "data": {
      "text/plain": [
       "[stdout:0] Hello world from rank 0 of 2. My partner is 1.\n"
      ]
     },
     "metadata": {},
     "output_type": "display_data"
    },
    {
     "data": {
      "text/plain": [
       "[stdout:1] Hello world from rank 1 of 2. My partner is 0.\n"
      ]
     },
     "metadata": {},
     "output_type": "display_data"
    }
   ],
   "source": [
    "%%px\n",
    "from mpi4py import MPI\n",
    "import numpy as np\n",
    "\n",
    "comm = MPI.COMM_WORLD\n",
    "rank = comm.Get_rank()\n",
    "size = comm.Get_size()\n",
    "\n",
    "if size != 2:\n",
    "    if rank == 0:\n",
    "        print(\"This program requires exactly 2 processes\")\n",
    "    exit()\n",
    "\n",
    "niter = 10000\n",
    "message = 0\n",
    "partner_rank = 1 - rank\n",
    "\n",
    "print(f\"Hello world from rank {rank} of {size}. My partner is {partner_rank}.\")"
   ]
  },
  {
   "cell_type": "markdown",
   "id": "2909c69a",
   "metadata": {
    "lines_to_next_cell": 0
   },
   "source": [
    "The processes execute the code independently.\n",
    "As a consequence, the second process can print the above string before the first process.\n",
    "We synchronize all processes before timing"
   ]
  },
  {
   "cell_type": "code",
   "execution_count": 4,
   "id": "ba34d8a6",
   "metadata": {
    "lines_to_next_cell": 2
   },
   "outputs": [
    {
     "data": {
      "text/plain": [
       "[stdout:0] Ping-pong latency: 3.828 microseconds (avg over 10000 iterations)\n"
      ]
     },
     "metadata": {},
     "output_type": "display_data"
    }
   ],
   "source": [
    "%%px\n",
    "comm.Barrier()\n",
    "start = MPI.Wtime()\n",
    "\n",
    "for _ in range(niter):\n",
    "    if rank == 0:\n",
    "        comm.send(message, dest=partner_rank) # lowercase methods are used for python objects\n",
    "        message = comm.recv(source=partner_rank)\n",
    "    else:\n",
    "        message = comm.recv(source=partner_rank)\n",
    "        comm.send(message, dest=partner_rank)\n",
    "\n",
    "end = MPI.Wtime()\n",
    "\n",
    "if rank == 0:\n",
    "    total_time = end - start # in seconds\n",
    "    avg_time = (total_time / (2.0 * niter)) * 1e6  # one-way latency in microseconds\n",
    "    print(f\"Ping-pong latency: {avg_time:.3f} microseconds (avg over {niter} iterations)\")"
   ]
  }
 ],
 "metadata": {
  "jupytext": {
   "cell_metadata_filter": "-all",
   "main_language": "python",
   "notebook_metadata_filter": "-all"
  },
  "kernelspec": {
   "display_name": "Python 3 (ipykernel)",
   "language": "python",
   "name": "python3"
  },
  "language_info": {
   "codemirror_mode": {
    "name": "ipython",
    "version": 3
   },
   "file_extension": ".py",
   "mimetype": "text/x-python",
   "name": "python",
   "nbconvert_exporter": "python",
   "pygments_lexer": "ipython3",
   "version": "3.13.7"
  }
 },
 "nbformat": 4,
 "nbformat_minor": 5
}
