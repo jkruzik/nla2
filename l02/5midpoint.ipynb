{
 "cells": [
  {
   "cell_type": "markdown",
   "id": "c5f746c0",
   "metadata": {
    "lines_to_next_cell": 0
   },
   "source": [
    "## Estimating integral with Riemann sum\n",
    "https://en.wikipedia.org/wiki/Riemann_sum#Midpoint_rule"
   ]
  },
  {
   "cell_type": "code",
   "execution_count": 1,
   "id": "12402d4e",
   "metadata": {
    "execution": {
     "iopub.execute_input": "2025-09-23T14:27:18.746413Z",
     "iopub.status.busy": "2025-09-23T14:27:18.746046Z",
     "iopub.status.idle": "2025-09-23T14:27:19.840663Z",
     "shell.execute_reply": "2025-09-23T14:27:19.839525Z"
    },
    "lines_to_next_cell": 0
   },
   "outputs": [],
   "source": [
    "from mpi4py import MPI\n",
    "\n",
    "comm = MPI.COMM_WORLD\n",
    "rank = comm.Get_rank()\n",
    "size = comm.Get_size()\n",
    "\n",
    "# Integration parameters\n",
    "a = 0.0\n",
    "b = 1.0\n",
    "n_total = 1000000\n",
    "\n",
    "dx = (b - a) / n_total\n",
    "n_local = n_total // size\n",
    "start = rank * n_local\n",
    "end = start + n_local"
   ]
  },
  {
   "cell_type": "markdown",
   "id": "84079a17",
   "metadata": {},
   "source": [
    "TODO: How do we choose n_local when `n_total % size != 0`?"
   ]
  },
  {
   "cell_type": "code",
   "execution_count": 2,
   "id": "4fceab8c",
   "metadata": {
    "execution": {
     "iopub.execute_input": "2025-09-23T14:27:19.845029Z",
     "iopub.status.busy": "2025-09-23T14:27:19.844585Z",
     "iopub.status.idle": "2025-09-23T14:27:20.041067Z",
     "shell.execute_reply": "2025-09-23T14:27:20.040397Z"
    },
    "lines_to_next_cell": 2
   },
   "outputs": [
    {
     "name": "stdout",
     "output_type": "stream",
     "text": [
      "Integral of f(x) from 0.0 to 1.0 ~= 0.333333333333\n"
     ]
    }
   ],
   "source": [
    "# Function to integrate\n",
    "def f(x):\n",
    "    return x**2  # example\n",
    "\n",
    "# Local sum\n",
    "local_sum = sum(f(a + (i + 0.5) * dx) * dx for i in range(start, end))\n",
    "\n",
    "# Reduce to global sum\n",
    "global_sum = comm.reduce(local_sum, op=MPI.SUM, root=0)\n",
    "\n",
    "if rank == 0:\n",
    "    print(f\"Integral of f(x) from {a} to {b} ~= {global_sum:.12f}\")"
   ]
  }
 ],
 "metadata": {
  "jupytext": {
   "cell_metadata_filter": "-all",
   "main_language": "python",
   "notebook_metadata_filter": "-all"
  },
  "kernelspec": {
   "display_name": "Python 3 (ipykernel)",
   "language": "python",
   "name": "python3"
  },
  "language_info": {
   "codemirror_mode": {
    "name": "ipython",
    "version": 3
   },
   "file_extension": ".py",
   "mimetype": "text/x-python",
   "name": "python",
   "nbconvert_exporter": "python",
   "pygments_lexer": "ipython3",
   "version": "3.13.7"
  }
 },
 "nbformat": 4,
 "nbformat_minor": 5
}
