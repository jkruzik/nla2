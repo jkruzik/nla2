{
 "cells": [
  {
   "cell_type": "markdown",
   "id": "32f7502f",
   "metadata": {},
   "source": [
    "This is a slight modification of the example $PETSC_DIR/src/binding/petsc4py/demo/poisson2d/poisson2d.py\n",
    "See also https://petsc.org/release/petsc4py/demo/poisson2d/poisson2d.html\n",
    "Modifications: known exact solution, plot norms of residuals with matplotlib\n",
    "\n",
    "Poisson in 2D\n",
    "=============\n",
    "\n",
    "Solve a constant coefficient Poisson problem on a regular grid. The source\n",
    "code for this demo can be `downloaded here <../../_static/poisson2d.py>`__\n",
    "\n",
    ".. math::\n",
    "\n",
    "    - u_{xx} - u_{yy} = 1 \\quad\\textsf{in}\\quad [0,1]^2\\\\\n",
    "    u = 0 \\quad\\textsf{on the boundary.}"
   ]
  },
  {
   "cell_type": "markdown",
   "id": "34df1d33",
   "metadata": {},
   "source": [
    "This is a naïve, parallel implementation, using :math:`n` interior grid\n",
    "points per dimension and a lexicographic ordering of the nodes."
   ]
  },
  {
   "cell_type": "markdown",
   "id": "8f428f12",
   "metadata": {},
   "source": [
    "This code is kept as simple as possible. However, simplicity comes at a\n",
    "price. Here we use a naive decomposition that does not lead to an optimal\n",
    "communication complexity for the matrix-vector product. An optimal complexity\n",
    "decomposition of a structured grid could be achieved using `PETSc.DMDA`.\n",
    "\n",
    "This demo is structured as a script to be executed using:\n",
    "\n",
    ".. code-block:: console\n",
    "\n",
    "  $ python poisson2d.py\n",
    "\n",
    "potentially with additional options passed at the end of the command."
   ]
  },
  {
   "cell_type": "code",
   "execution_count": 1,
   "id": "0f7f5603",
   "metadata": {
    "execution": {
     "iopub.execute_input": "2025-10-10T10:38:42.390361Z",
     "iopub.status.busy": "2025-10-10T10:38:42.389931Z",
     "iopub.status.idle": "2025-10-10T10:38:42.818375Z",
     "shell.execute_reply": "2025-10-10T10:38:42.817849Z"
    }
   },
   "outputs": [],
   "source": [
    "import matplotlib.pyplot as plt"
   ]
  },
  {
   "cell_type": "markdown",
   "id": "19c3be4e",
   "metadata": {},
   "source": [
    "At the start of your script, call `petsc4py.init` passing `sys.argv` so that\n",
    "command-line arguments to the script are passed through to PETSc."
   ]
  },
  {
   "cell_type": "code",
   "execution_count": 2,
   "id": "6f67655d",
   "metadata": {
    "execution": {
     "iopub.execute_input": "2025-10-10T10:38:42.821704Z",
     "iopub.status.busy": "2025-10-10T10:38:42.821445Z",
     "iopub.status.idle": "2025-10-10T10:38:42.825139Z",
     "shell.execute_reply": "2025-10-10T10:38:42.824322Z"
    }
   },
   "outputs": [],
   "source": [
    "import sys\n",
    "import petsc4py"
   ]
  },
  {
   "cell_type": "code",
   "execution_count": 3,
   "id": "0461a5c9",
   "metadata": {
    "execution": {
     "iopub.execute_input": "2025-10-10T10:38:42.827961Z",
     "iopub.status.busy": "2025-10-10T10:38:42.827779Z",
     "iopub.status.idle": "2025-10-10T10:38:43.940862Z",
     "shell.execute_reply": "2025-10-10T10:38:43.939795Z"
    }
   },
   "outputs": [],
   "source": [
    "petsc4py.init(sys.argv)"
   ]
  },
  {
   "cell_type": "markdown",
   "id": "6538d8bf",
   "metadata": {},
   "source": [
    "The full PETSc4py API is to be found in the `petsc4py.PETSc` module."
   ]
  },
  {
   "cell_type": "code",
   "execution_count": 4,
   "id": "e88c7ee5",
   "metadata": {
    "execution": {
     "iopub.execute_input": "2025-10-10T10:38:43.945209Z",
     "iopub.status.busy": "2025-10-10T10:38:43.944660Z",
     "iopub.status.idle": "2025-10-10T10:38:43.949470Z",
     "shell.execute_reply": "2025-10-10T10:38:43.948499Z"
    }
   },
   "outputs": [],
   "source": [
    "from petsc4py import PETSc"
   ]
  },
  {
   "cell_type": "markdown",
   "id": "f5fa61d5",
   "metadata": {},
   "source": [
    "PETSc is extensively programmable using the `PETSc.Options` database. For\n",
    "more information see `working with PETSc Options <petsc_options>`."
   ]
  },
  {
   "cell_type": "code",
   "execution_count": 5,
   "id": "b5f23a88",
   "metadata": {
    "execution": {
     "iopub.execute_input": "2025-10-10T10:38:43.952922Z",
     "iopub.status.busy": "2025-10-10T10:38:43.952527Z",
     "iopub.status.idle": "2025-10-10T10:38:43.956874Z",
     "shell.execute_reply": "2025-10-10T10:38:43.955919Z"
    }
   },
   "outputs": [],
   "source": [
    "OptDB = PETSc.Options()"
   ]
  },
  {
   "cell_type": "markdown",
   "id": "6a109170",
   "metadata": {},
   "source": [
    "Grid size and spacing using a default value of ``5``. The user can specify a\n",
    "different number of points in each direction by passing the ``-n`` option to\n",
    "the script."
   ]
  },
  {
   "cell_type": "code",
   "execution_count": 6,
   "id": "e39e8a14",
   "metadata": {
    "execution": {
     "iopub.execute_input": "2025-10-10T10:38:43.960274Z",
     "iopub.status.busy": "2025-10-10T10:38:43.959897Z",
     "iopub.status.idle": "2025-10-10T10:38:43.964326Z",
     "shell.execute_reply": "2025-10-10T10:38:43.963369Z"
    }
   },
   "outputs": [],
   "source": [
    "n = OptDB.getInt('n', 5)\n",
    "h = 1.0 / (n + 1)"
   ]
  },
  {
   "cell_type": "markdown",
   "id": "c227f65b",
   "metadata": {},
   "source": [
    "Matrices are instances of the `PETSc.Mat` class."
   ]
  },
  {
   "cell_type": "code",
   "execution_count": 7,
   "id": "320eade2",
   "metadata": {
    "execution": {
     "iopub.execute_input": "2025-10-10T10:38:43.967803Z",
     "iopub.status.busy": "2025-10-10T10:38:43.967404Z",
     "iopub.status.idle": "2025-10-10T10:38:43.971646Z",
     "shell.execute_reply": "2025-10-10T10:38:43.970720Z"
    }
   },
   "outputs": [],
   "source": [
    "A = PETSc.Mat()"
   ]
  },
  {
   "cell_type": "markdown",
   "id": "f99743c8",
   "metadata": {},
   "source": [
    "Create the underlying PETSc C Mat object.\n",
    "You can omit the ``comm`` argument if your objects live on\n",
    "`PETSc.COMM_WORLD` but it is a dangerous choice to rely on default values\n",
    "for such important arguments."
   ]
  },
  {
   "cell_type": "code",
   "execution_count": 8,
   "id": "205b1af8",
   "metadata": {
    "execution": {
     "iopub.execute_input": "2025-10-10T10:38:43.974991Z",
     "iopub.status.busy": "2025-10-10T10:38:43.974596Z",
     "iopub.status.idle": "2025-10-10T10:38:43.986592Z",
     "shell.execute_reply": "2025-10-10T10:38:43.985506Z"
    }
   },
   "outputs": [
    {
     "data": {
      "text/plain": [
       "<petsc4py.PETSc.Mat at 0x7fde789a8810>"
      ]
     },
     "execution_count": 8,
     "metadata": {},
     "output_type": "execute_result"
    }
   ],
   "source": [
    "A.create(comm=PETSc.COMM_WORLD)"
   ]
  },
  {
   "cell_type": "markdown",
   "id": "44d8734f",
   "metadata": {},
   "source": [
    "Specify global matrix shape with a tuple."
   ]
  },
  {
   "cell_type": "code",
   "execution_count": 9,
   "id": "eba6af65",
   "metadata": {
    "execution": {
     "iopub.execute_input": "2025-10-10T10:38:43.990165Z",
     "iopub.status.busy": "2025-10-10T10:38:43.989783Z",
     "iopub.status.idle": "2025-10-10T10:38:43.994362Z",
     "shell.execute_reply": "2025-10-10T10:38:43.993382Z"
    }
   },
   "outputs": [],
   "source": [
    "A.setSizes((n * n, n * n))"
   ]
  },
  {
   "cell_type": "markdown",
   "id": "e4fc1525",
   "metadata": {},
   "source": [
    "The call above implicitly assumes that we leave the parallel decomposition of\n",
    "the matrix rows to PETSc by using `PETSc.DECIDE` for local sizes.\n",
    "It is equivalent to:\n",
    "\n",
    ".. code-block:: python\n",
    "\n",
    "    A.setSizes(((PETSc.DECIDE, n * n), (PETSc.DECIDE, n * n)))"
   ]
  },
  {
   "cell_type": "markdown",
   "id": "426dc3e6",
   "metadata": {},
   "source": [
    "Here we use a sparse matrix of AIJ type\n",
    "Various `matrix formats <petsc4py.PETSc.Mat.Type>` can be selected:"
   ]
  },
  {
   "cell_type": "code",
   "execution_count": 10,
   "id": "6bb393f2",
   "metadata": {
    "execution": {
     "iopub.execute_input": "2025-10-10T10:38:43.997942Z",
     "iopub.status.busy": "2025-10-10T10:38:43.997548Z",
     "iopub.status.idle": "2025-10-10T10:38:44.002274Z",
     "shell.execute_reply": "2025-10-10T10:38:44.001245Z"
    }
   },
   "outputs": [],
   "source": [
    "A.setType(PETSc.Mat.Type.AIJ)"
   ]
  },
  {
   "cell_type": "markdown",
   "id": "49a1cbf4",
   "metadata": {},
   "source": [
    "Finally we allow the user to set any options they want to on the matrix from\n",
    "the command line:"
   ]
  },
  {
   "cell_type": "code",
   "execution_count": 11,
   "id": "83dc8b5f",
   "metadata": {
    "execution": {
     "iopub.execute_input": "2025-10-10T10:38:44.005824Z",
     "iopub.status.busy": "2025-10-10T10:38:44.005415Z",
     "iopub.status.idle": "2025-10-10T10:38:44.009821Z",
     "shell.execute_reply": "2025-10-10T10:38:44.008881Z"
    }
   },
   "outputs": [],
   "source": [
    "A.setFromOptions()"
   ]
  },
  {
   "cell_type": "markdown",
   "id": "534d4d5c",
   "metadata": {},
   "source": [
    "Insertion into some matrix types is vastly more efficient if we preallocate\n",
    "space rather than allow this to happen dynamically. Here we hint the number\n",
    "of nonzeros to be expected on each row."
   ]
  },
  {
   "cell_type": "code",
   "execution_count": 12,
   "id": "7650921b",
   "metadata": {
    "execution": {
     "iopub.execute_input": "2025-10-10T10:38:44.013280Z",
     "iopub.status.busy": "2025-10-10T10:38:44.012900Z",
     "iopub.status.idle": "2025-10-10T10:38:44.019380Z",
     "shell.execute_reply": "2025-10-10T10:38:44.018486Z"
    }
   },
   "outputs": [
    {
     "data": {
      "text/plain": [
       "<petsc4py.PETSc.Mat at 0x7fde789a8810>"
      ]
     },
     "execution_count": 12,
     "metadata": {},
     "output_type": "execute_result"
    }
   ],
   "source": [
    "A.setPreallocationNNZ(5)"
   ]
  },
  {
   "cell_type": "markdown",
   "id": "d8444eb1",
   "metadata": {
    "lines_to_next_cell": 2
   },
   "source": [
    "We can now write out our finite difference matrix assembly using conventional\n",
    "Python syntax. `Mat.getOwnershipRange` is used to retrieve the range of rows\n",
    "local to this processor."
   ]
  },
  {
   "cell_type": "code",
   "execution_count": 13,
   "id": "fef71a26",
   "metadata": {
    "execution": {
     "iopub.execute_input": "2025-10-10T10:38:44.022655Z",
     "iopub.status.busy": "2025-10-10T10:38:44.022267Z",
     "iopub.status.idle": "2025-10-10T10:38:44.026837Z",
     "shell.execute_reply": "2025-10-10T10:38:44.025907Z"
    }
   },
   "outputs": [],
   "source": [
    "def index_to_grid(r):\n",
    "    \"\"\"Convert a row number into a grid point.\"\"\"\n",
    "    return (r // n, r % n)"
   ]
  },
  {
   "cell_type": "code",
   "execution_count": 14,
   "id": "d5128ca0",
   "metadata": {
    "execution": {
     "iopub.execute_input": "2025-10-10T10:38:44.029950Z",
     "iopub.status.busy": "2025-10-10T10:38:44.029545Z",
     "iopub.status.idle": "2025-10-10T10:38:44.036939Z",
     "shell.execute_reply": "2025-10-10T10:38:44.035911Z"
    }
   },
   "outputs": [],
   "source": [
    "rstart, rend = A.getOwnershipRange()\n",
    "for row in range(rstart, rend):\n",
    "    i, j = index_to_grid(row)\n",
    "    A[row, row] = 4.0 / h**2\n",
    "    if i > 0:\n",
    "        column = row - n\n",
    "        A[row, column] = -1.0 / h**2\n",
    "    if i < n - 1:\n",
    "        column = row + n\n",
    "        A[row, column] = -1.0 / h**2\n",
    "    if j > 0:\n",
    "        column = row - 1\n",
    "        A[row, column] = -1.0 / h**2\n",
    "    if j < n - 1:\n",
    "        column = row + 1\n",
    "        A[row, column] = -1.0 / h**2"
   ]
  },
  {
   "cell_type": "markdown",
   "id": "5f659183",
   "metadata": {},
   "source": [
    "At this stage, any exchange of information required in the matrix assembly\n",
    "process has not occurred. We achieve this by calling `Mat.assemblyBegin` and\n",
    "then `Mat.assemblyEnd`."
   ]
  },
  {
   "cell_type": "code",
   "execution_count": 15,
   "id": "1e383f40",
   "metadata": {
    "execution": {
     "iopub.execute_input": "2025-10-10T10:38:44.040780Z",
     "iopub.status.busy": "2025-10-10T10:38:44.040292Z",
     "iopub.status.idle": "2025-10-10T10:38:44.045322Z",
     "shell.execute_reply": "2025-10-10T10:38:44.044141Z"
    }
   },
   "outputs": [],
   "source": [
    "A.assemblyBegin()\n",
    "A.assemblyEnd()"
   ]
  },
  {
   "cell_type": "markdown",
   "id": "cae9cbac",
   "metadata": {},
   "source": [
    "We set up an additional option so that the user can print the matrix by\n",
    "passing ``-view_mat`` to the script."
   ]
  },
  {
   "cell_type": "code",
   "execution_count": 16,
   "id": "4a26bcbc",
   "metadata": {
    "execution": {
     "iopub.execute_input": "2025-10-10T10:38:44.049176Z",
     "iopub.status.busy": "2025-10-10T10:38:44.048744Z",
     "iopub.status.idle": "2025-10-10T10:38:44.053777Z",
     "shell.execute_reply": "2025-10-10T10:38:44.052688Z"
    }
   },
   "outputs": [],
   "source": [
    "A.viewFromOptions('-view_mat')"
   ]
  },
  {
   "cell_type": "markdown",
   "id": "cfa1df9f",
   "metadata": {},
   "source": [
    "PETSc represents all linear solvers as preconditioned Krylov subspace methods\n",
    "of type `PETSc.KSP`. Here we create a KSP object for a conjugate gradient\n",
    "solver preconditioned with an algebraic multigrid method."
   ]
  },
  {
   "cell_type": "code",
   "execution_count": 17,
   "id": "ed5ef18a",
   "metadata": {
    "execution": {
     "iopub.execute_input": "2025-10-10T10:38:44.057312Z",
     "iopub.status.busy": "2025-10-10T10:38:44.056899Z",
     "iopub.status.idle": "2025-10-10T10:38:44.062725Z",
     "shell.execute_reply": "2025-10-10T10:38:44.061636Z"
    }
   },
   "outputs": [],
   "source": [
    "ksp = PETSc.KSP()\n",
    "ksp.create(comm=A.getComm())\n",
    "ksp.setType(PETSc.KSP.Type.CG)\n",
    "ksp.getPC().setType(PETSc.PC.Type.GAMG)"
   ]
  },
  {
   "cell_type": "markdown",
   "id": "658d6f70",
   "metadata": {},
   "source": [
    "We set the matrix in our linear solver and allow the user to program the\n",
    "solver with options."
   ]
  },
  {
   "cell_type": "code",
   "execution_count": 18,
   "id": "1351dd54",
   "metadata": {
    "execution": {
     "iopub.execute_input": "2025-10-10T10:38:44.066170Z",
     "iopub.status.busy": "2025-10-10T10:38:44.065758Z",
     "iopub.status.idle": "2025-10-10T10:38:44.070718Z",
     "shell.execute_reply": "2025-10-10T10:38:44.069628Z"
    }
   },
   "outputs": [],
   "source": [
    "ksp.setOperators(A)\n",
    "ksp.setFromOptions()"
   ]
  },
  {
   "cell_type": "markdown",
   "id": "98d6ab80",
   "metadata": {},
   "source": [
    "Since the matrix knows its size and parallel distribution, we can retrieve\n",
    "appropriately-scaled vectors using `Mat.createVecs`. PETSc vectors are\n",
    "objects of type `PETSc.Vec`. Here we set the right-hand side of our system to\n",
    "a vector of ones, and then solve."
   ]
  },
  {
   "cell_type": "code",
   "execution_count": 19,
   "id": "2598f1f0",
   "metadata": {
    "execution": {
     "iopub.execute_input": "2025-10-10T10:38:44.074157Z",
     "iopub.status.busy": "2025-10-10T10:38:44.073752Z",
     "iopub.status.idle": "2025-10-10T10:38:44.081690Z",
     "shell.execute_reply": "2025-10-10T10:38:44.080548Z"
    }
   },
   "outputs": [],
   "source": [
    "x, b = A.createVecs()\n",
    "x.set(1.0)\n",
    "A.mult(x, b)\n",
    "ksp.setConvergenceHistory()\n",
    "ksp.solve(b, x)"
   ]
  },
  {
   "cell_type": "code",
   "execution_count": 20,
   "id": "0eebc4ba",
   "metadata": {
    "execution": {
     "iopub.execute_input": "2025-10-10T10:38:44.085084Z",
     "iopub.status.busy": "2025-10-10T10:38:44.084666Z",
     "iopub.status.idle": "2025-10-10T10:38:44.650501Z",
     "shell.execute_reply": "2025-10-10T10:38:44.650025Z"
    }
   },
   "outputs": [
    {
     "data": {
      "image/png": "[encoded data removed]",
      "text/plain": [
       "<Figure size 640x480 with 1 Axes>"
      ]
     },
     "metadata": {},
     "output_type": "display_data"
    }
   ],
   "source": [
    "# plot norms of residuals\n",
    "res = ksp.getConvergenceHistory()\n",
    "if (PETSc.COMM_WORLD.rank == 0):\n",
    "    plt.semilogy(res)\n",
    "    plt.show()\n",
    "    #plt.savefig(\"residual.png\")"
   ]
  },
  {
   "cell_type": "markdown",
   "id": "1f7d5547",
   "metadata": {},
   "source": [
    "Finally, allow the user to print the solution by passing ``-view_sol`` to the\n",
    "script."
   ]
  },
  {
   "cell_type": "code",
   "execution_count": 21,
   "id": "d79c6d93",
   "metadata": {
    "execution": {
     "iopub.execute_input": "2025-10-10T10:38:44.654703Z",
     "iopub.status.busy": "2025-10-10T10:38:44.654395Z",
     "iopub.status.idle": "2025-10-10T10:38:44.658419Z",
     "shell.execute_reply": "2025-10-10T10:38:44.657768Z"
    }
   },
   "outputs": [],
   "source": [
    "x.viewFromOptions('-view_sol')"
   ]
  },
  {
   "cell_type": "markdown",
   "id": "68ddad88",
   "metadata": {},
   "source": [
    "TODO Things to try\n",
    "-------------\n",
    "\n",
    "- Show the solution with ``-view_sol``.\n",
    "- Show the matrix with ``-view_mat``.\n",
    "- Monitor convergence with ``-ksp_monitor``.\n",
    "- Change the resolution with ``-n``.\n",
    "- Use a direct solver by passing ``-ksp_type preonly -pc_type lu``.\n",
    "- View solver and its settings with ``-ksp_view``.\n",
    "- Change tolerance with ``-ksp_rtol``.\n",
    "- Change solvers with ``-ksp_type`` and preconditioners with ``-pc_type``. Monitor convergence.\n",
    "- Run in parallel on two processors using:\n",
    "\n",
    "  .. code-block:: console\n",
    "\n",
    "      mpiexec -n 2 python poisson2d.py"
   ]
  }
 ],
 "metadata": {
  "jupytext": {
   "cell_metadata_filter": "-all",
   "main_language": "python",
   "notebook_metadata_filter": "-all"
  },
  "kernelspec": {
   "display_name": "Python 3 (ipykernel)",
   "language": "python",
   "name": "python3"
  },
  "language_info": {
   "codemirror_mode": {
    "name": "ipython",
    "version": 3
   },
   "file_extension": ".py",
   "mimetype": "text/x-python",
   "name": "python",
   "nbconvert_exporter": "python",
   "pygments_lexer": "ipython3",
   "version": "3.13.7"
  }
 },
 "nbformat": 4,
 "nbformat_minor": 5
}
